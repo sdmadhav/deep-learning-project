{
  "cells": [
    {
      "cell_type": "code",
      "execution_count": null,
      "metadata": {
        "id": "e5GPnEUNk9bi"
      },
      "outputs": [],
      "source": [
        "# IMPORTANT: SOME KAGGLE DATA SOURCES ARE PRIVATE\n",
        "# RUN THIS CELL IN ORDER TO IMPORT YOUR KAGGLE DATA SOURCES.\n",
        "import kagglehub\n",
        "# kagglehub.login()\n"
      ]
    },
    {
      "cell_type": "code",
      "execution_count": null,
      "metadata": {
        "colab": {
          "background_save": true,
          "base_uri": "https://localhost:8080/"
        },
        "collapsed": true,
        "id": "QxlJJV7Rk9bn",
        "outputId": "7cc500d4-0cfe-4723-b83c-86bb8db898e9"
      },
      "outputs": [
        {
          "name": "stdout",
          "output_type": "stream",
          "text": [
            "Downloading from https://www.kaggle.com/api/v1/datasets/download/adrivg/ravdess-emotional-speech-video?dataset_version_number=1...\n"
          ]
        },
        {
          "name": "stderr",
          "output_type": "stream",
          "text": [
            "100%|██████████| 12.4G/12.4G [05:29<00:00, 40.6MB/s]"
          ]
        },
        {
          "name": "stdout",
          "output_type": "stream",
          "text": [
            "Extracting files...\n"
          ]
        },
        {
          "name": "stderr",
          "output_type": "stream",
          "text": [
            "\n"
          ]
        },
        {
          "name": "stdout",
          "output_type": "stream",
          "text": [
            "Data source import complete.\n"
          ]
        }
      ],
      "source": [
        "# IMPORTANT: RUN THIS CELL IN ORDER TO IMPORT YOUR KAGGLE DATA SOURCES,\n",
        "# THEN FEEL FREE TO DELETE THIS CELL.\n",
        "# NOTE: THIS NOTEBOOK ENVIRONMENT DIFFERS FROM KAGGLE'S PYTHON\n",
        "# ENVIRONMENT SO THERE MAY BE MISSING LIBRARIES USED BY YOUR\n",
        "# NOTEBOOK.\n",
        "\n",
        "adrivg_ravdess_emotional_speech_video_path = kagglehub.dataset_download('adrivg/ravdess-emotional-speech-video')\n",
        "# madhavsdeshatwad_delete_this_files_path = kagglehub.dataset_download('madhavsdeshatwad/delete-this-files')\n",
        "# madhavsdeshatwad_audio_classifier_for_revdees_pytorch_default_1_path = kagglehub.model_download('madhavsdeshatwad/audio-classifier-for-revdees/PyTorch/default/1')\n",
        "# madhavsdeshatwad_video_frame_emotion_classifier_revdees_keras_default_1_path = kagglehub.model_download('madhavsdeshatwad/video-frame-emotion-classifier-revdees/Keras/default/1')\n",
        "\n",
        "print('Data source import complete.')\n"
      ]
    },
    {
      "cell_type": "code",
      "execution_count": null,
      "metadata": {
        "colab": {
          "base_uri": "https://localhost:8080/",
          "height": 35
        },
        "id": "3ds2J7zJUDHJ",
        "outputId": "696ecb0d-928a-4d04-94e7-c7ceb619d8c8"
      },
      "outputs": [
        {
          "data": {
            "application/vnd.google.colaboratory.intrinsic+json": {
              "type": "string"
            },
            "text/plain": [
              "'/kaggle/input/ravdess-emotional-speech-video'"
            ]
          },
          "execution_count": 3,
          "metadata": {},
          "output_type": "execute_result"
        }
      ],
      "source": [
        "adrivg_ravdess_emotional_speech_video_path"
      ]
    },
    {
      "cell_type": "markdown",
      "metadata": {
        "id": "wNpjyyYB_N7I"
      },
      "source": [
        "Emotion (01 = neutral, 02 = calm, 03 = happy, 04 = sad, 05 = angry, 06 = fearful, 07 = disgust, 08 = surprised).\n",
        "# https://www.kaggle.com/datasets/adrivg/ravdess-emotional-speech-video"
      ]
    },
    {
      "cell_type": "code",
      "execution_count": null,
      "metadata": {
        "colab": {
          "base_uri": "https://localhost:8080/"
        },
        "id": "OOw7EAU5hpEs",
        "outputId": "ce22cf7f-ff49-4fcf-b397-61b33f2c4725"
      },
      "outputs": [
        {
          "name": "stderr",
          "output_type": "stream",
          "text": [
            "WARNING:py.warnings:/usr/local/lib/python3.11/dist-packages/moviepy/video/io/sliders.py:61: SyntaxWarning: \"is\" with a literal. Did you mean \"==\"?\n",
            "  if event.key is 'enter':\n",
            "\n"
          ]
        }
      ],
      "source": [
        "import cv2\n",
        "import moviepy.editor as mp\n",
        "from pathlib import Path\n",
        "import torch\n",
        "import numpy as np\n",
        "from tensorflow.keras.preprocessing import image\n",
        "from tensorflow.keras.models import load_model\n",
        "from torchvision import transforms\n",
        "import os\n",
        "from glob import glob\n",
        "import pandas as pd\n",
        "from tensorflow import keras\n",
        "import tensorflow as tf\n",
        "import pathlib\n",
        "from sklearn.metrics import accuracy_score, f1_score\n",
        "import random\n",
        "import librosa\n",
        "import torch.nn.functional as F\n",
        "import torch.nn as nn\n",
        "from torch.utils.data import Dataset, DataLoader\n"
      ]
    },
    {
      "cell_type": "code",
      "execution_count": null,
      "metadata": {
        "id": "M4fZaMBY988G"
      },
      "outputs": [],
      "source": [
        "def extract_frames_and_audio_from_paths(video_paths, output_folder, audio_folder, frame_rate=1):\n",
        "    output_folder = Path(output_folder)\n",
        "    output_folder.mkdir(parents=True, exist_ok=True)\n",
        "\n",
        "    audio_folder = Path(audio_folder)\n",
        "    audio_folder.mkdir(parents=True, exist_ok=True)\n",
        "\n",
        "    for index, video_path in enumerate(video_paths):\n",
        "        print(f\"Processing video {index + 1}: {video_path}\")\n",
        "\n",
        "        video_path = Path(video_path)\n",
        "        if not video_path.exists():\n",
        "            print(f\"Video not found: {video_path}\")\n",
        "            continue\n",
        "\n",
        "        # Open video capture\n",
        "        cap = cv2.VideoCapture(str(video_path))\n",
        "        if not cap.isOpened():\n",
        "            print(f\"Failed to open video: {video_path}\")\n",
        "            continue\n",
        "\n",
        "        video_name = video_path.stem  # filename without extension\n",
        "        count = 0\n",
        "        saved = 0\n",
        "\n",
        "        # Extract frames\n",
        "        while True:\n",
        "            ret, frame = cap.read()\n",
        "            if not ret:\n",
        "                break\n",
        "\n",
        "            if count % frame_rate == 0:\n",
        "                frame_filename = output_folder / f\"{video_name}_frame_{saved:04d}.jpg\"\n",
        "                cv2.imwrite(str(frame_filename), frame)\n",
        "                saved += 1\n",
        "\n",
        "            count += 1\n",
        "\n",
        "        cap.release()\n",
        "        print(f\"Extracted {saved} frames from {video_path.name}\")\n",
        "\n",
        "        # Extract audio using moviepy\n",
        "        try:\n",
        "            my_clip = mp.VideoFileClip(str(video_path))\n",
        "            # Ensure the audio path is relative to the current directory or provide the full path\n",
        "            audio_path = audio_folder / f\"{video_name}_audio.mp3\"\n",
        "            my_clip.audio.write_audiofile(str(audio_path))\n",
        "            print(f\"Audio saved to {audio_path}\")\n",
        "\n",
        "            def save_spectrogram(audio_path, save_path, sr=22050, n_mels=128):\n",
        "                import librosa\n",
        "                import librosa.display\n",
        "                import matplotlib.pyplot as plt\n",
        "                import numpy as np\n",
        "                y, _ = librosa.load(audio_path, sr=sr)\n",
        "                S = librosa.feature.melspectrogram(y=y, sr=sr, n_mels=n_mels)\n",
        "                S_DB = librosa.power_to_db(S, ref=np.max)\n",
        "\n",
        "                plt.figure(figsize=(3, 3))\n",
        "                librosa.display.specshow(S_DB, sr=sr, x_axis='time', y_axis='mel')\n",
        "                plt.axis('off')\n",
        "                plt.tight_layout()\n",
        "                # Ensure save_path is either relative or a full path\n",
        "                plt.savefig(save_path, bbox_inches='tight', pad_inches=0)\n",
        "                plt.close()\n",
        "\n",
        "            # Ensure the save path is either relative or a full path\n",
        "            save_spectrogram(audio_path, audio_path.with_suffix('.png'))\n",
        "\n",
        "        except Exception as e:\n",
        "            print(f\"Failed to extract audio from {video_path.name}: {e}\")"
      ]
    },
    {
      "cell_type": "code",
      "execution_count": null,
      "metadata": {
        "id": "fosC9tbI3LEV"
      },
      "outputs": [],
      "source": [
        "def extract_audio_features(y, sr=16000, duration=3):\n",
        "    max_len = sr * duration\n",
        "    # Fix length: truncate or pad the audio to match the target length\n",
        "    if len(y) < max_len:\n",
        "        y = np.pad(y, (0, max_len - len(y)))\n",
        "    else:\n",
        "        y = y[:max_len]\n",
        "\n",
        "    # ✅ Normalize waveform to avoid underflow\n",
        "    if np.max(np.abs(y)) > 0:\n",
        "        y = y / np.max(np.abs(y))\n",
        "\n",
        "    # Extract features\n",
        "    mfcc = librosa.feature.mfcc(y=y, sr=sr, n_mfcc=40)\n",
        "    delta = librosa.feature.delta(mfcc)\n",
        "    delta2 = librosa.feature.delta(mfcc, order=2)\n",
        "\n",
        "    # chroma = librosa.feature.chroma_stft(y=y, sr=sr)\n",
        "    contrast = librosa.feature.spectral_contrast(y=y, sr=sr)\n",
        "    zcr = librosa.feature.zero_crossing_rate(y)\n",
        "    # rmse = librosa.feature.rms(y=y)\n",
        "    centroid = librosa.feature.spectral_centroid(y=y, sr=sr)\n",
        "\n",
        "    # Normalize each feature\n",
        "    def norm(x): return librosa.util.normalize(x, axis=1)\n",
        "\n",
        "    feature_stack = np.vstack([\n",
        "        norm(mfcc),\n",
        "        norm(delta),\n",
        "        norm(delta2),\n",
        "        # norm(chroma),\n",
        "        norm(contrast),\n",
        "        norm(zcr),\n",
        "        # norm(rmse),\n",
        "        norm(centroid)\n",
        "    ])  # Shape: (features, frames)\n",
        "\n",
        "    return feature_stack.T  # Shape: (frames, features)\n",
        "\n",
        "class RevDeEsDataset(Dataset):\n",
        "    def __init__(self, file_paths, Augment, labels=None, sr=16000, duration=3):\n",
        "        self.file_paths = file_paths\n",
        "        self.labels = labels\n",
        "        self.sr = sr\n",
        "        self.duration = duration\n",
        "        self.max_len = sr * duration\n",
        "\n",
        "    def __getitem__(self, idx):\n",
        "        path = self.file_paths[idx]\n",
        "        y, _ = librosa.load(path, sr=self.sr)\n",
        "        # Fix the length of the audio\n",
        "        if len(y) < self.max_len:\n",
        "            y = np.pad(y, (0, self.max_len - len(y)))  # Pad with zeros if shorter\n",
        "        else:\n",
        "            y = y[:self.max_len]  # Truncate if longer\n",
        "\n",
        "        features = extract_audio_features(y, sr=self.sr)  # Extract audio features (e.g., MFCC, delta, etc.)\n",
        "        features = torch.tensor(features, dtype=torch.float32)\n",
        "\n",
        "        if self.labels is not None:\n",
        "            label = self.labels[idx]\n",
        "            return features, label\n",
        "        else:\n",
        "            return features, path\n",
        "\n",
        "    def __len__(self):\n",
        "        return len(self.file_paths)\n"
      ]
    },
    {
      "cell_type": "code",
      "execution_count": null,
      "metadata": {
        "id": "2723I5Xw3PET"
      },
      "outputs": [],
      "source": [
        "##########################\n",
        "#Use Attention After RNN : Add attention after the LSTM output to weigh different time steps.\n",
        "#########################\n",
        "class Attention(nn.Module):\n",
        "    def __init__(self, hidden_dim):\n",
        "        super().__init__()\n",
        "        self.attn = nn.Linear(hidden_dim, 1)\n",
        "\n",
        "    def forward(self, x):\n",
        "        # x: [batch, seq_len, hidden_dim]\n",
        "        weights = torch.softmax(self.attn(x), dim=1)\n",
        "        context = (x * weights).sum(dim=1)\n",
        "        return context\n",
        "\n",
        "\n",
        "# ===========================\n",
        "# CRNN Model\n",
        "# ===========================\n",
        "class CRNN(nn.Module):\n",
        "    def __init__(self, input_shape, num_classes):\n",
        "        super(CRNN, self).__init__()\n",
        "        self.cnn = nn.Sequential(\n",
        "            nn.Conv2d(1, 32, kernel_size=3, padding=1),\n",
        "            nn.BatchNorm2d(32),\n",
        "            nn.ReLU(),\n",
        "            nn.Dropout2d(0.3),\n",
        "            nn.MaxPool2d((2, 2)),\n",
        "\n",
        "            nn.Conv2d(32, 64, kernel_size=3, padding=1),\n",
        "            nn.BatchNorm2d(64),\n",
        "            nn.ReLU(),\n",
        "            nn.MaxPool2d((2, 2)),\n",
        "\n",
        "            nn.Conv2d(64, 128, kernel_size=3, padding=1),\n",
        "            nn.BatchNorm2d(128),\n",
        "            nn.ReLU(),\n",
        "            nn.MaxPool2d((2, 2)),\n",
        "        )\n",
        "        cnn_out_time = input_shape[0] // 8 #CNN has 3 maxpool layers, each halving both the time and frequency axes, so both T and F are divided by 8\n",
        "        cnn_out_freq = input_shape[1] // 8\n",
        "        # self.rnn = nn.LSTM(input_size=cnn_out_freq * 64, hidden_size=128, batch_first=True, bidirectional=True)\n",
        "        # self.fc = nn.Linear(128 * 2, num_classes)\n",
        "        self.rnn = nn.LSTM(input_size=cnn_out_freq * 128, hidden_size=256,\n",
        "                   batch_first=True, bidirectional=True, num_layers=2, dropout=0.3)\n",
        "\n",
        "        self.attention = Attention(512)\n",
        "        self.fc = nn.Linear(512, num_classes)\n",
        "    def forward(self, x):\n",
        "        x = self.cnn(x)\n",
        "        b, c, t, f = x.shape\n",
        "        x = x.permute(0, 2, 1, 3).contiguous().view(b, t, c * f)\n",
        "        x, _ = self.rnn(x)\n",
        "        # x = self.fc(x[:, -1])\n",
        "        x = self.attention(x)\n",
        "        x = self.fc(x)\n",
        "        return x\n",
        "\n",
        "\n",
        "\n",
        "def validate(model, dataloader, criterion, device, num_classes):\n",
        "    model.eval()\n",
        "    total_loss = 0\n",
        "    all_preds = []\n",
        "    all_labels = []\n",
        "    all_probs = []\n",
        "\n",
        "    with torch.no_grad():\n",
        "        for x, y in dataloader:\n",
        "            x, y = x.to(device), y.to(device)\n",
        "            x = x.unsqueeze(1)  # Adjust this as per model\n",
        "            out = model(x)\n",
        "            loss = criterion(out, y)\n",
        "            total_loss += loss.item()\n",
        "\n",
        "            probs = F.softmax(out, dim=1)  # Get predicted probabilities\n",
        "            preds = torch.argmax(probs, dim=1)\n",
        "\n",
        "            all_preds.extend(preds.cpu().numpy())\n",
        "            all_labels.extend(y.cpu().numpy())\n",
        "            all_probs.extend(probs.cpu().numpy())\n",
        "\n",
        "    acc = accuracy_score(all_labels, all_preds)\n",
        "    f1 = f1_score(all_labels, all_preds, average='weighted')\n",
        "\n",
        "    return total_loss / len(dataloader), acc, f1, all_preds, all_labels, all_probs"
      ]
    },
    {
      "cell_type": "code",
      "execution_count": null,
      "metadata": {
        "id": "39uGadWo4Hd7"
      },
      "outputs": [],
      "source": [
        "# Check for GPU (CUDA) availability\n",
        "device = torch.device('cuda' if torch.cuda.is_available() else 'cpu')\n",
        "\n",
        "audio_model = CRNN(input_shape=(94, 129), num_classes=8).to(device)\n",
        "\n",
        "# Load the checkpoint\n",
        "checkpoint = torch.load('/content/crnn_attention_final_model.pth', weights_only=False,\n",
        "                        map_location=torch.device('cuda' if torch.cuda.is_available() else 'cpu'))\n",
        "\n",
        "# Extract the model state_dict from the checkpoint\n",
        "model_state_dict = checkpoint['model_state_dict']\n",
        "\n",
        "# Now load the model state_dict into the model\n",
        "audio_model.load_state_dict(model_state_dict)\n",
        "\n",
        "criterion = nn.CrossEntropyLoss()\n"
      ]
    },
    {
      "cell_type": "code",
      "execution_count": null,
      "metadata": {
        "id": "0hY2oQxWmt61"
      },
      "outputs": [],
      "source": []
    },
    {
      "cell_type": "code",
      "execution_count": null,
      "metadata": {
        "id": "JHOfK1ji3XZZ"
      },
      "outputs": [],
      "source": []
    },
    {
      "cell_type": "code",
      "execution_count": null,
      "metadata": {
        "id": "fB6JjQH0J4kd"
      },
      "outputs": [],
      "source": [
        "import torchvision.models as models\n",
        "\n",
        "class SpectrogramCNN(nn.Module):\n",
        "    def __init__(self, num_classes=8):\n",
        "        super(SpectrogramCNN, self).__init__()\n",
        "        self.model = models.resnet18(pretrained=True)\n",
        "        self.model.conv1 = nn.Conv2d(3, 64, kernel_size=7, stride=2, padding=3, bias=False)\n",
        "        self.model.fc = nn.Linear(self.model.fc.in_features, num_classes)\n",
        "\n",
        "    def forward(self, x):\n",
        "        return self.model(x)\n"
      ]
    },
    {
      "cell_type": "code",
      "execution_count": null,
      "metadata": {
        "colab": {
          "base_uri": "https://localhost:8080/"
        },
        "id": "9bBnoW1mRUJ-",
        "outputId": "48a7baf4-218d-4a66-ebe3-cb98e39e3a1a"
      },
      "outputs": [
        {
          "name": "stdout",
          "output_type": "stream",
          "text": [
            "✅ Removed all 'value_range' entries from config.json.\n"
          ]
        }
      ],
      "source": [
        "# Load models\n",
        "# Load models\n",
        "data = \"\"\n",
        "# Recursive function to remove \"value_range\"\n",
        "def remove_value_range(obj):\n",
        "    !unzip /content/best_model.keras -d model_dir\n",
        "    import json\n",
        "\n",
        "    # Path to your config.json\n",
        "    config_path = \"/content/model_dir/config.json\"\n",
        "\n",
        "    # Load the JSON file\n",
        "    with open(config_path, \"r\") as f:\n",
        "        data = json.load(f)\n",
        "    if isinstance(obj, dict):\n",
        "        # Remove 'value_range' key if exists\n",
        "        if \"value_range\" in obj:\n",
        "            del obj[\"value_range\"]\n",
        "            print(\"✅ 'value_range' removed successfully.\")\n",
        "        # Recurse into dictionary values\n",
        "        for key in obj:\n",
        "            remove_value_range(obj[key])\n",
        "    elif isinstance(obj, list):\n",
        "        for item in obj:\n",
        "            remove_value_range(item)\n",
        "\n",
        "# Apply the function to the loaded JSON\n",
        "# remove_value_range(data)\n",
        "\n",
        "# Save the modified JSON back to file\n",
        "# with open(config_path, \"w\") as f:\n",
        "#     json.dump(data, f, indent=4)\n",
        "\n",
        "print(\"✅ Removed all 'value_range' entries from config.json.\")\n"
      ]
    },
    {
      "cell_type": "code",
      "execution_count": null,
      "metadata": {
        "colab": {
          "base_uri": "https://localhost:8080/"
        },
        "id": "z5z0fCyYMIUk",
        "outputId": "7264023f-f5af-4797-c8aa-a49b0646c410"
      },
      "outputs": [
        {
          "name": "stderr",
          "output_type": "stream",
          "text": [
            "WARNING:py.warnings:/usr/local/lib/python3.11/dist-packages/torchvision/models/_utils.py:208: UserWarning: The parameter 'pretrained' is deprecated since 0.13 and may be removed in the future, please use 'weights' instead.\n",
            "  warnings.warn(\n",
            "\n",
            "WARNING:py.warnings:/usr/local/lib/python3.11/dist-packages/torchvision/models/_utils.py:223: UserWarning: Arguments other than a weight enum or `None` for 'weights' are deprecated since 0.13 and may be removed in the future. The current behavior is equivalent to passing `weights=ResNet18_Weights.IMAGENET1K_V1`. You can also use `weights=ResNet18_Weights.DEFAULT` to get the most up-to-date weights.\n",
            "  warnings.warn(msg)\n",
            "\n",
            "Downloading: \"https://download.pytorch.org/models/resnet18-f37072fd.pth\" to /root/.cache/torch/hub/checkpoints/resnet18-f37072fd.pth\n",
            "100%|██████████| 44.7M/44.7M [00:00<00:00, 178MB/s]\n"
          ]
        },
        {
          "data": {
            "text/plain": [
              "SpectrogramCNN(\n",
              "  (model): ResNet(\n",
              "    (conv1): Conv2d(3, 64, kernel_size=(7, 7), stride=(2, 2), padding=(3, 3), bias=False)\n",
              "    (bn1): BatchNorm2d(64, eps=1e-05, momentum=0.1, affine=True, track_running_stats=True)\n",
              "    (relu): ReLU(inplace=True)\n",
              "    (maxpool): MaxPool2d(kernel_size=3, stride=2, padding=1, dilation=1, ceil_mode=False)\n",
              "    (layer1): Sequential(\n",
              "      (0): BasicBlock(\n",
              "        (conv1): Conv2d(64, 64, kernel_size=(3, 3), stride=(1, 1), padding=(1, 1), bias=False)\n",
              "        (bn1): BatchNorm2d(64, eps=1e-05, momentum=0.1, affine=True, track_running_stats=True)\n",
              "        (relu): ReLU(inplace=True)\n",
              "        (conv2): Conv2d(64, 64, kernel_size=(3, 3), stride=(1, 1), padding=(1, 1), bias=False)\n",
              "        (bn2): BatchNorm2d(64, eps=1e-05, momentum=0.1, affine=True, track_running_stats=True)\n",
              "      )\n",
              "      (1): BasicBlock(\n",
              "        (conv1): Conv2d(64, 64, kernel_size=(3, 3), stride=(1, 1), padding=(1, 1), bias=False)\n",
              "        (bn1): BatchNorm2d(64, eps=1e-05, momentum=0.1, affine=True, track_running_stats=True)\n",
              "        (relu): ReLU(inplace=True)\n",
              "        (conv2): Conv2d(64, 64, kernel_size=(3, 3), stride=(1, 1), padding=(1, 1), bias=False)\n",
              "        (bn2): BatchNorm2d(64, eps=1e-05, momentum=0.1, affine=True, track_running_stats=True)\n",
              "      )\n",
              "    )\n",
              "    (layer2): Sequential(\n",
              "      (0): BasicBlock(\n",
              "        (conv1): Conv2d(64, 128, kernel_size=(3, 3), stride=(2, 2), padding=(1, 1), bias=False)\n",
              "        (bn1): BatchNorm2d(128, eps=1e-05, momentum=0.1, affine=True, track_running_stats=True)\n",
              "        (relu): ReLU(inplace=True)\n",
              "        (conv2): Conv2d(128, 128, kernel_size=(3, 3), stride=(1, 1), padding=(1, 1), bias=False)\n",
              "        (bn2): BatchNorm2d(128, eps=1e-05, momentum=0.1, affine=True, track_running_stats=True)\n",
              "        (downsample): Sequential(\n",
              "          (0): Conv2d(64, 128, kernel_size=(1, 1), stride=(2, 2), bias=False)\n",
              "          (1): BatchNorm2d(128, eps=1e-05, momentum=0.1, affine=True, track_running_stats=True)\n",
              "        )\n",
              "      )\n",
              "      (1): BasicBlock(\n",
              "        (conv1): Conv2d(128, 128, kernel_size=(3, 3), stride=(1, 1), padding=(1, 1), bias=False)\n",
              "        (bn1): BatchNorm2d(128, eps=1e-05, momentum=0.1, affine=True, track_running_stats=True)\n",
              "        (relu): ReLU(inplace=True)\n",
              "        (conv2): Conv2d(128, 128, kernel_size=(3, 3), stride=(1, 1), padding=(1, 1), bias=False)\n",
              "        (bn2): BatchNorm2d(128, eps=1e-05, momentum=0.1, affine=True, track_running_stats=True)\n",
              "      )\n",
              "    )\n",
              "    (layer3): Sequential(\n",
              "      (0): BasicBlock(\n",
              "        (conv1): Conv2d(128, 256, kernel_size=(3, 3), stride=(2, 2), padding=(1, 1), bias=False)\n",
              "        (bn1): BatchNorm2d(256, eps=1e-05, momentum=0.1, affine=True, track_running_stats=True)\n",
              "        (relu): ReLU(inplace=True)\n",
              "        (conv2): Conv2d(256, 256, kernel_size=(3, 3), stride=(1, 1), padding=(1, 1), bias=False)\n",
              "        (bn2): BatchNorm2d(256, eps=1e-05, momentum=0.1, affine=True, track_running_stats=True)\n",
              "        (downsample): Sequential(\n",
              "          (0): Conv2d(128, 256, kernel_size=(1, 1), stride=(2, 2), bias=False)\n",
              "          (1): BatchNorm2d(256, eps=1e-05, momentum=0.1, affine=True, track_running_stats=True)\n",
              "        )\n",
              "      )\n",
              "      (1): BasicBlock(\n",
              "        (conv1): Conv2d(256, 256, kernel_size=(3, 3), stride=(1, 1), padding=(1, 1), bias=False)\n",
              "        (bn1): BatchNorm2d(256, eps=1e-05, momentum=0.1, affine=True, track_running_stats=True)\n",
              "        (relu): ReLU(inplace=True)\n",
              "        (conv2): Conv2d(256, 256, kernel_size=(3, 3), stride=(1, 1), padding=(1, 1), bias=False)\n",
              "        (bn2): BatchNorm2d(256, eps=1e-05, momentum=0.1, affine=True, track_running_stats=True)\n",
              "      )\n",
              "    )\n",
              "    (layer4): Sequential(\n",
              "      (0): BasicBlock(\n",
              "        (conv1): Conv2d(256, 512, kernel_size=(3, 3), stride=(2, 2), padding=(1, 1), bias=False)\n",
              "        (bn1): BatchNorm2d(512, eps=1e-05, momentum=0.1, affine=True, track_running_stats=True)\n",
              "        (relu): ReLU(inplace=True)\n",
              "        (conv2): Conv2d(512, 512, kernel_size=(3, 3), stride=(1, 1), padding=(1, 1), bias=False)\n",
              "        (bn2): BatchNorm2d(512, eps=1e-05, momentum=0.1, affine=True, track_running_stats=True)\n",
              "        (downsample): Sequential(\n",
              "          (0): Conv2d(256, 512, kernel_size=(1, 1), stride=(2, 2), bias=False)\n",
              "          (1): BatchNorm2d(512, eps=1e-05, momentum=0.1, affine=True, track_running_stats=True)\n",
              "        )\n",
              "      )\n",
              "      (1): BasicBlock(\n",
              "        (conv1): Conv2d(512, 512, kernel_size=(3, 3), stride=(1, 1), padding=(1, 1), bias=False)\n",
              "        (bn1): BatchNorm2d(512, eps=1e-05, momentum=0.1, affine=True, track_running_stats=True)\n",
              "        (relu): ReLU(inplace=True)\n",
              "        (conv2): Conv2d(512, 512, kernel_size=(3, 3), stride=(1, 1), padding=(1, 1), bias=False)\n",
              "        (bn2): BatchNorm2d(512, eps=1e-05, momentum=0.1, affine=True, track_running_stats=True)\n",
              "      )\n",
              "    )\n",
              "    (avgpool): AdaptiveAvgPool2d(output_size=(1, 1))\n",
              "    (fc): Linear(in_features=512, out_features=8, bias=True)\n",
              "  )\n",
              ")"
            ]
          },
          "execution_count": 12,
          "metadata": {},
          "output_type": "execute_result"
        }
      ],
      "source": [
        "## replace !unzip /content/best_model.keras -d model_dir\n",
        "# Open model_dir/keras_metadata.pb or model.json (whichever exists) and manually remove the \"value_range\": [0, 255] entry.\n",
        "frame_model =  tf.keras.models.load_model(\"/content/best_model(1).keras\")\n",
        "audio_model   #  CRNN + Attention model is already loaded\n",
        "audio_model.eval()\n",
        "\n",
        "spectrogram_model = SpectrogramCNN(num_classes=8).to(device)\n",
        "spectrogram_model.load_state_dict(torch.load(\"best_spectrogram_cnn.pth\",  map_location=torch.device('cuda' if torch.cuda.is_available() else 'cpu')))\n",
        "spectrogram_model.eval()\n"
      ]
    },
    {
      "cell_type": "code",
      "execution_count": null,
      "metadata": {
        "colab": {
          "base_uri": "https://localhost:8080/",
          "height": 319
        },
        "id": "Jefm4TCBXKmz",
        "outputId": "0ed86b9b-dd50-4fdc-bc1f-dd582dfbaa21"
      },
      "outputs": [
        {
          "data": {
            "text/html": [
              "<pre style=\"white-space:pre;overflow-x:auto;line-height:normal;font-family:Menlo,'DejaVu Sans Mono',consolas,'Courier New',monospace\"><span style=\"font-weight: bold\">Model: \"sequential_3\"</span>\n",
              "</pre>\n"
            ],
            "text/plain": [
              "\u001b[1mModel: \"sequential_3\"\u001b[0m\n"
            ]
          },
          "metadata": {},
          "output_type": "display_data"
        },
        {
          "data": {
            "text/html": [
              "<pre style=\"white-space:pre;overflow-x:auto;line-height:normal;font-family:Menlo,'DejaVu Sans Mono',consolas,'Courier New',monospace\">┏━━━━━━━━━━━━━━━━━━━━━━━━━━━━━━━━━┳━━━━━━━━━━━━━━━━━━━━━━━━┳━━━━━━━━━━━━━━━┓\n",
              "┃<span style=\"font-weight: bold\"> Layer (type)                    </span>┃<span style=\"font-weight: bold\"> Output Shape           </span>┃<span style=\"font-weight: bold\">       Param # </span>┃\n",
              "┡━━━━━━━━━━━━━━━━━━━━━━━━━━━━━━━━━╇━━━━━━━━━━━━━━━━━━━━━━━━╇━━━━━━━━━━━━━━━┩\n",
              "│ sequential_2 (<span style=\"color: #0087ff; text-decoration-color: #0087ff\">Sequential</span>)       │ (<span style=\"color: #00d7ff; text-decoration-color: #00d7ff\">None</span>, <span style=\"color: #00af00; text-decoration-color: #00af00\">224</span>, <span style=\"color: #00af00; text-decoration-color: #00af00\">224</span>, <span style=\"color: #00af00; text-decoration-color: #00af00\">3</span>)    │             <span style=\"color: #00af00; text-decoration-color: #00af00\">0</span> │\n",
              "├─────────────────────────────────┼────────────────────────┼───────────────┤\n",
              "│ resnet50 (<span style=\"color: #0087ff; text-decoration-color: #0087ff\">Functional</span>)           │ (<span style=\"color: #00d7ff; text-decoration-color: #00d7ff\">None</span>, <span style=\"color: #00af00; text-decoration-color: #00af00\">2048</span>)           │    <span style=\"color: #00af00; text-decoration-color: #00af00\">23,587,712</span> │\n",
              "├─────────────────────────────────┼────────────────────────┼───────────────┤\n",
              "│ dense_2 (<span style=\"color: #0087ff; text-decoration-color: #0087ff\">Dense</span>)                 │ (<span style=\"color: #00d7ff; text-decoration-color: #00d7ff\">None</span>, <span style=\"color: #00af00; text-decoration-color: #00af00\">512</span>)            │     <span style=\"color: #00af00; text-decoration-color: #00af00\">1,049,088</span> │\n",
              "├─────────────────────────────────┼────────────────────────┼───────────────┤\n",
              "│ dropout_1 (<span style=\"color: #0087ff; text-decoration-color: #0087ff\">Dropout</span>)             │ (<span style=\"color: #00d7ff; text-decoration-color: #00d7ff\">None</span>, <span style=\"color: #00af00; text-decoration-color: #00af00\">512</span>)            │             <span style=\"color: #00af00; text-decoration-color: #00af00\">0</span> │\n",
              "├─────────────────────────────────┼────────────────────────┼───────────────┤\n",
              "│ dense_3 (<span style=\"color: #0087ff; text-decoration-color: #0087ff\">Dense</span>)                 │ (<span style=\"color: #00d7ff; text-decoration-color: #00d7ff\">None</span>, <span style=\"color: #00af00; text-decoration-color: #00af00\">8</span>)              │         <span style=\"color: #00af00; text-decoration-color: #00af00\">4,104</span> │\n",
              "└─────────────────────────────────┴────────────────────────┴───────────────┘\n",
              "</pre>\n"
            ],
            "text/plain": [
              "┏━━━━━━━━━━━━━━━━━━━━━━━━━━━━━━━━━┳━━━━━━━━━━━━━━━━━━━━━━━━┳━━━━━━━━━━━━━━━┓\n",
              "┃\u001b[1m \u001b[0m\u001b[1mLayer (type)                   \u001b[0m\u001b[1m \u001b[0m┃\u001b[1m \u001b[0m\u001b[1mOutput Shape          \u001b[0m\u001b[1m \u001b[0m┃\u001b[1m \u001b[0m\u001b[1m      Param #\u001b[0m\u001b[1m \u001b[0m┃\n",
              "┡━━━━━━━━━━━━━━━━━━━━━━━━━━━━━━━━━╇━━━━━━━━━━━━━━━━━━━━━━━━╇━━━━━━━━━━━━━━━┩\n",
              "│ sequential_2 (\u001b[38;5;33mSequential\u001b[0m)       │ (\u001b[38;5;45mNone\u001b[0m, \u001b[38;5;34m224\u001b[0m, \u001b[38;5;34m224\u001b[0m, \u001b[38;5;34m3\u001b[0m)    │             \u001b[38;5;34m0\u001b[0m │\n",
              "├─────────────────────────────────┼────────────────────────┼───────────────┤\n",
              "│ resnet50 (\u001b[38;5;33mFunctional\u001b[0m)           │ (\u001b[38;5;45mNone\u001b[0m, \u001b[38;5;34m2048\u001b[0m)           │    \u001b[38;5;34m23,587,712\u001b[0m │\n",
              "├─────────────────────────────────┼────────────────────────┼───────────────┤\n",
              "│ dense_2 (\u001b[38;5;33mDense\u001b[0m)                 │ (\u001b[38;5;45mNone\u001b[0m, \u001b[38;5;34m512\u001b[0m)            │     \u001b[38;5;34m1,049,088\u001b[0m │\n",
              "├─────────────────────────────────┼────────────────────────┼───────────────┤\n",
              "│ dropout_1 (\u001b[38;5;33mDropout\u001b[0m)             │ (\u001b[38;5;45mNone\u001b[0m, \u001b[38;5;34m512\u001b[0m)            │             \u001b[38;5;34m0\u001b[0m │\n",
              "├─────────────────────────────────┼────────────────────────┼───────────────┤\n",
              "│ dense_3 (\u001b[38;5;33mDense\u001b[0m)                 │ (\u001b[38;5;45mNone\u001b[0m, \u001b[38;5;34m8\u001b[0m)              │         \u001b[38;5;34m4,104\u001b[0m │\n",
              "└─────────────────────────────────┴────────────────────────┴───────────────┘\n"
            ]
          },
          "metadata": {},
          "output_type": "display_data"
        },
        {
          "data": {
            "text/html": [
              "<pre style=\"white-space:pre;overflow-x:auto;line-height:normal;font-family:Menlo,'DejaVu Sans Mono',consolas,'Courier New',monospace\"><span style=\"font-weight: bold\"> Total params: </span><span style=\"color: #00af00; text-decoration-color: #00af00\">73,816,474</span> (281.59 MB)\n",
              "</pre>\n"
            ],
            "text/plain": [
              "\u001b[1m Total params: \u001b[0m\u001b[38;5;34m73,816,474\u001b[0m (281.59 MB)\n"
            ]
          },
          "metadata": {},
          "output_type": "display_data"
        },
        {
          "data": {
            "text/html": [
              "<pre style=\"white-space:pre;overflow-x:auto;line-height:normal;font-family:Menlo,'DejaVu Sans Mono',consolas,'Courier New',monospace\"><span style=\"font-weight: bold\"> Trainable params: </span><span style=\"color: #00af00; text-decoration-color: #00af00\">24,587,784</span> (93.79 MB)\n",
              "</pre>\n"
            ],
            "text/plain": [
              "\u001b[1m Trainable params: \u001b[0m\u001b[38;5;34m24,587,784\u001b[0m (93.79 MB)\n"
            ]
          },
          "metadata": {},
          "output_type": "display_data"
        },
        {
          "data": {
            "text/html": [
              "<pre style=\"white-space:pre;overflow-x:auto;line-height:normal;font-family:Menlo,'DejaVu Sans Mono',consolas,'Courier New',monospace\"><span style=\"font-weight: bold\"> Non-trainable params: </span><span style=\"color: #00af00; text-decoration-color: #00af00\">53,120</span> (207.50 KB)\n",
              "</pre>\n"
            ],
            "text/plain": [
              "\u001b[1m Non-trainable params: \u001b[0m\u001b[38;5;34m53,120\u001b[0m (207.50 KB)\n"
            ]
          },
          "metadata": {},
          "output_type": "display_data"
        },
        {
          "data": {
            "text/html": [
              "<pre style=\"white-space:pre;overflow-x:auto;line-height:normal;font-family:Menlo,'DejaVu Sans Mono',consolas,'Courier New',monospace\"><span style=\"font-weight: bold\"> Optimizer params: </span><span style=\"color: #00af00; text-decoration-color: #00af00\">49,175,570</span> (187.59 MB)\n",
              "</pre>\n"
            ],
            "text/plain": [
              "\u001b[1m Optimizer params: \u001b[0m\u001b[38;5;34m49,175,570\u001b[0m (187.59 MB)\n"
            ]
          },
          "metadata": {},
          "output_type": "display_data"
        }
      ],
      "source": [
        "frame_model.summary()"
      ]
    },
    {
      "cell_type": "code",
      "execution_count": null,
      "metadata": {
        "id": "V58sr1_D5IyR"
      },
      "outputs": [],
      "source": [
        "import shutil\n",
        "from torchvision import datasets\n",
        "\n",
        "# Class names (Video index order)\n",
        "video_class_names = ['angry', 'calm', 'disgust', 'fearful', 'happy', 'neutral', 'sad', 'surprised']\n",
        "\n",
        "# Class names (Audio index order)\n",
        "audio_class_names = ['angry', 'calm', 'disgust', 'fearful', 'happy', 'neutral', 'sad', 'surprised']\n",
        "\n",
        "\n",
        "def predict_from_video(video_path, frame_dir, audio_path, frame_model, audio_model, device,\n",
        "                       video_acc=0.9146, audio_acc=0.9236):\n",
        "    # --- Step 1: Extract frames and audio ---\n",
        "    extract_frames_and_audio_from_paths([video_path], frame_dir+\"/test/\", os.path.dirname(audio_path), frame_rate=30)\n",
        "\n",
        "    # --- Step 2: Predict from frames ---\n",
        "    # === PREPROCESSING ===\n",
        "    # === SETUP ===\n",
        "\n",
        "    # Parameters\n",
        "    test_data_dir = pathlib.Path(\"/content/extracted_frames\")\n",
        "    # test_data_dir = pathlib.Path(\"/content/test\")\n",
        "    img_height, img_width = 224, 224\n",
        "    batch_size = 32\n",
        "    AUTOTUNE = tf.data.AUTOTUNE\n",
        "\n",
        "    # Load data\n",
        "    test_ds = tf.keras.preprocessing.image_dataset_from_directory(\n",
        "        test_data_dir,\n",
        "        seed=123,\n",
        "        image_size=(img_height, img_width),\n",
        "        batch_size=batch_size\n",
        "    )\n",
        "\n",
        "    # Normalize and one-hot encode\n",
        "    def one_hot_encode(batch_images, batch_labels):\n",
        "        # batch_images = tf.cast(batch_images, tf.float32) / 255.0\n",
        "        batch_labels_one_hot = tf.one_hot(batch_labels, depth=8)\n",
        "        return batch_images, batch_labels_one_hot\n",
        "\n",
        "    test_ds = test_ds.map(one_hot_encode).cache().prefetch(buffer_size=AUTOTUNE)\n",
        "\n",
        "    # Predict on validation data\n",
        "    y_true, y_pred = [], []\n",
        "    frame_probs = []\n",
        "\n",
        "    for images, labels in test_ds:\n",
        "        preds = frame_model.predict(images)\n",
        "        frame_probs.append(preds)\n",
        "        y_true.extend(np.argmax(labels.numpy(), axis=1))\n",
        "        y_pred.extend(np.argmax(preds, axis=1))\n",
        "\n",
        "    # Aggregate frame predictions\n",
        "    frame_probs_concat = np.concatenate(frame_probs, axis=0)\n",
        "    avg_frame_probs = np.mean(frame_probs_concat, axis=0)\n",
        "\n",
        "    # Map predictions to class names\n",
        "    video_probs_dict_raw = dict(zip(video_class_names, avg_frame_probs))\n",
        "    video_probs_dict = {emo: video_probs_dict_raw.get(emo, 0.0) for emo in video_class_names}\n",
        "\n",
        "\n",
        "    # # --- Step 3: Predict from audio ---\n",
        "    test_set = RevDeEsDataset([audio_path], [0])\n",
        "    loader = DataLoader(test_set, batch_size=1)\n",
        "    audio_probs = []\n",
        "    with torch.no_grad():\n",
        "        for x, _ in loader:\n",
        "            x = x.to(device).unsqueeze(1)\n",
        "            out = audio_model(x)\n",
        "            prob = torch.softmax(out, dim=1).cpu().numpy()[0]\n",
        "            audio_probs.append(prob)\n",
        "\n",
        "    avg_audio_probs_raw = np.mean(audio_probs, axis=0)\n",
        "    audio_probs_dict_raw = dict(zip(audio_class_names, avg_audio_probs_raw))\n",
        "    audio_probs_dict = {emo: audio_probs_dict_raw.get(emo, 0.0) for emo in audio_class_names}\n",
        "\n",
        "\n",
        "\n",
        "    # ### Predict from Spectrogram\n",
        "\n",
        "    # Image preprocessing (same as training)\n",
        "    transform = transforms.Compose([\n",
        "        transforms.Resize((224, 224)),\n",
        "        transforms.ToTensor(),\n",
        "    ])\n",
        "\n",
        "    from PIL import Image\n",
        "    audio_path = Path(audio_path)\n",
        "    image_path = audio_path.with_suffix('.png')\n",
        "    img = Image.open(image_path).convert(\"RGB\")\n",
        "    input_tensor = transform(img).unsqueeze(0).to(device)\n",
        "    out = spectrogram_model(input_tensor)\n",
        "    out = torch.softmax(out, dim=1)  # Now each row sums to 1\n",
        "\n",
        "    # 🔄 Detach the tensor before converting to NumPy array\n",
        "    avg_spec_probs_raw = np.mean(out.detach().cpu().numpy(), axis=0)  # Convert the PyTorch tensor to a NumPy array before calculating the mean.spec_probs_dict_raw = dict(zip(audio_class_names, avg_spec_probs_raw))\n",
        "    spec_probs_dict_raw = dict(zip(audio_class_names, avg_spec_probs_raw))\n",
        "    spec_probs_dict = {emo: spec_probs_dict_raw.get(emo, 0.0) for emo in audio_class_names}\n",
        "\n",
        "    # --- Step 4: Weighted Fusion ---\n",
        "    from scipy.stats import entropy\n",
        "\n",
        "    # Convert dicts to arrays\n",
        "    video_probs_arr = np.array([float(np.mean(v)) if isinstance(v, np.ndarray) else float(v) for v in video_probs_dict.values()])\n",
        "    audio_probs_arr = np.array([float(np.mean(v)) if isinstance(v, np.ndarray) else float(v) for v in audio_probs_dict.values()])\n",
        "    spec_probs_arr = np.array([float(np.mean(v)) if isinstance(v, np.ndarray) else float(v) for v in spec_probs_dict.values()])\n",
        "\n",
        "\n",
        "\n",
        "    def safe_entropy(probs, eps=1e-6):\n",
        "        probs = np.array(probs)\n",
        "        probs = probs / (np.sum(probs) + eps)  # Normalize\n",
        "        return entropy(probs + eps)  # Add epsilon to avoid log(0)\n",
        "\n",
        "\n",
        "    # Compute entropy (uncertainty)\n",
        "    video_entropy = safe_entropy(video_probs_arr)\n",
        "    audio_entropy = safe_entropy(audio_probs_arr)\n",
        "    spec_entropy = safe_entropy(spec_probs_arr)\n",
        "\n",
        "    # Model performed on validation\n",
        "    video_acc = 0.69\n",
        "    audio_acc = 0.70\n",
        "    spec_acc = 0.79\n",
        "\n",
        "    # Calculate confidence (per-sample)\n",
        "    video_conf = 1 / (video_entropy + 1e-8)\n",
        "    audio_conf = 1 / (audio_entropy + 1e-8)\n",
        "    spec_conf = 1 / (spec_entropy + 1e-8)\n",
        "\n",
        "    # Combine: trust * confidence\n",
        "    video_score = video_conf * video_acc\n",
        "    audio_score = audio_conf * audio_acc\n",
        "    spec_score = spec_conf * spec_acc\n",
        "\n",
        "    # Normalize weights\n",
        "    total_score = video_score + audio_score + spec_score\n",
        "    video_weight = video_score / total_score\n",
        "    audio_weight = audio_score / total_score\n",
        "    spec_weight = spec_score / total_score\n",
        "\n",
        "    print(\"Per-sample weights -> video:\", video_weight, \"audio:\", audio_weight, 'spectrogram', spec_weight )\n",
        "\n",
        "    final_probs_dict = {\n",
        "        emo: (video_weight * video_probs_dict.get(emo, 0.0) +\n",
        "              audio_weight * audio_probs_dict.get(emo, 0.0)) + (spec_weight * spec_probs_dict.get(emo, 0.0))\n",
        "        for emo in video_class_names\n",
        "    }\n",
        "\n",
        "\n",
        "    # --- Step 5: Predict Top Classes ---\n",
        "    # Convert all values to float by averaging if it's an array\n",
        "    final_probs_list = [float(np.mean(v)) if isinstance(v, np.ndarray) else float(v) for v in final_probs_dict.values()]\n",
        "    fusion_pred = video_class_names[np.argmax(final_probs_list)]\n",
        "\n",
        "    audio_probs_list = [float(np.mean(v)) if isinstance(v, np.ndarray) else float(v) for v in audio_probs_dict.values()]\n",
        "    audio_pred = audio_class_names[np.argmax(audio_probs_list)]\n",
        "\n",
        "    spec_probs_list = [float(np.mean(v)) if isinstance(v, np.ndarray) else float(v) for v in spec_probs_dict.values()]\n",
        "    spec_pred = audio_class_names[np.argmax(spec_probs_list)]\n",
        "\n",
        "\n",
        "    video_probs_list = [float(np.mean(v)) if isinstance(v, np.ndarray) else float(v) for v in video_probs_dict.values()]\n",
        "    video_pred = video_class_names[np.argmax(video_probs_list)]\n",
        "\n",
        "\n",
        "    # --- Step 6: Cleanup ---\n",
        "    try:\n",
        "        if os.path.exists(frame_dir):\n",
        "            shutil.rmtree(frame_dir)\n",
        "        if os.path.exists(audio_path):\n",
        "            os.remove(audio_path)\n",
        "        if os.path.exists(image_path):\n",
        "            os.remove(image_path)\n",
        "    except Exception as e:\n",
        "        print(f\"Warning: Cleanup failed - {e}\")\n",
        "\n",
        "    return  fusion_pred, audio_pred, spec_pred, video_pred #\n",
        "    return \"pass\",\"pass\",\"pass\",\"pass\""
      ]
    },
    {
      "cell_type": "code",
      "execution_count": null,
      "metadata": {
        "id": "Vp5bXto-k9bz"
      },
      "outputs": [],
      "source": [
        "def pred(i, revdess=True):\n",
        "    frame_dir = \"/content/extracted_frames\"\n",
        "    if revdess:\n",
        "        video_file = f\"/kaggle/input/ravdess-emotional-speech-video/RAVDESS dataset/Video_Speech_Actor_{i.split('-')[-1]}/Actor_{i.split('-')[-1]}/01-{i}.mp4\"\n",
        "        audio_path = f\"extracted_audio/01-{i}_audio.mp3\"\n",
        "    else:\n",
        "        video_file = i\n",
        "        file_name = os. path. basename(i)\n",
        "        file_name = file_name.split(\".\")[0]\n",
        "        audio_path =  f\"extracted_audio/{file_name}_audio.mp3\"\n",
        "    fusion_pred, audio_pred, spec_pred, video_pred = predict_from_video(video_file, frame_dir, audio_path, frame_model, audio_model, device)\n",
        "\n",
        "    return pd.Series({\n",
        "        \"fusion_pred\": fusion_pred,\n",
        "        \"audio_pred\": audio_pred,\n",
        "        \"spectrogram_pred\": spec_pred,\n",
        "        \"video_pred\": video_pred\n",
        "    })\n"
      ]
    },
    {
      "cell_type": "code",
      "execution_count": null,
      "metadata": {
        "colab": {
          "base_uri": "https://localhost:8080/",
          "height": 349
        },
        "id": "ACvo0JtpD4RV",
        "outputId": "dbaaa736-6177-404b-a51b-5fed4734470c"
      },
      "outputs": [
        {
          "name": "stdout",
          "output_type": "stream",
          "text": [
            "Processing video 1: /kaggle/input/ravdess-emotional-speech-video/RAVDESS dataset/Video_Speech_Actor_01/Actor_01/01-01-01-01-01-01-01.mp4\n",
            "Extracted 4 frames from 01-01-01-01-01-01-01.mp4\n",
            "MoviePy - Writing audio in extracted_audio/01-01-01-01-01-01-01_audio.mp3\n"
          ]
        },
        {
          "name": "stderr",
          "output_type": "stream",
          "text": [
            "                                                       "
          ]
        },
        {
          "name": "stdout",
          "output_type": "stream",
          "text": [
            "MoviePy - Done.\n",
            "Audio saved to extracted_audio/01-01-01-01-01-01-01_audio.mp3\n",
            "Found 4 files belonging to 1 classes.\n"
          ]
        },
        {
          "name": "stderr",
          "output_type": "stream",
          "text": [
            "\r"
          ]
        },
        {
          "name": "stdout",
          "output_type": "stream",
          "text": [
            "\u001b[1m1/1\u001b[0m \u001b[32m━━━━━━━━━━━━━━━━━━━━\u001b[0m\u001b[37m\u001b[0m \u001b[1m0s\u001b[0m 75ms/step\n",
            "Per-sample weights -> video: 0.006232723391194312 audio: 0.2685986746108302 spectrogram 0.7251686019979755\n"
          ]
        },
        {
          "data": {
            "text/html": [
              "<div>\n",
              "<style scoped>\n",
              "    .dataframe tbody tr th:only-of-type {\n",
              "        vertical-align: middle;\n",
              "    }\n",
              "\n",
              "    .dataframe tbody tr th {\n",
              "        vertical-align: top;\n",
              "    }\n",
              "\n",
              "    .dataframe thead th {\n",
              "        text-align: right;\n",
              "    }\n",
              "</style>\n",
              "<table border=\"1\" class=\"dataframe\">\n",
              "  <thead>\n",
              "    <tr style=\"text-align: right;\">\n",
              "      <th></th>\n",
              "      <th>0</th>\n",
              "    </tr>\n",
              "  </thead>\n",
              "  <tbody>\n",
              "    <tr>\n",
              "      <th>fusion_pred</th>\n",
              "      <td>neutral</td>\n",
              "    </tr>\n",
              "    <tr>\n",
              "      <th>audio_pred</th>\n",
              "      <td>neutral</td>\n",
              "    </tr>\n",
              "    <tr>\n",
              "      <th>spectrogram_pred</th>\n",
              "      <td>neutral</td>\n",
              "    </tr>\n",
              "    <tr>\n",
              "      <th>video_pred</th>\n",
              "      <td>neutral</td>\n",
              "    </tr>\n",
              "  </tbody>\n",
              "</table>\n",
              "</div><br><label><b>dtype:</b> object</label>"
            ],
            "text/plain": [
              "fusion_pred         neutral\n",
              "audio_pred          neutral\n",
              "spectrogram_pred    neutral\n",
              "video_pred          neutral\n",
              "dtype: object"
            ]
          },
          "execution_count": 45,
          "metadata": {},
          "output_type": "execute_result"
        }
      ],
      "source": [
        "pred(\"/kaggle/input/ravdess-emotional-speech-video/RAVDESS dataset/Video_Speech_Actor_01/Actor_01/01-01-01-01-01-01-01.mp4\", False)"
      ]
    },
    {
      "cell_type": "code",
      "execution_count": null,
      "metadata": {
        "id": "h1hZir4KUi21"
      },
      "outputs": [],
      "source": [
        "import pandas as pd\n",
        "dataset = pd.read_csv(\"mapping_train_test_valid.csv\")"
      ]
    },
    {
      "cell_type": "code",
      "execution_count": null,
      "metadata": {
        "id": "1_iTeQElvjd7"
      },
      "outputs": [],
      "source": [
        "dataset = dataset[dataset[\"category\"]==\"valid\"]"
      ]
    },
    {
      "cell_type": "code",
      "execution_count": null,
      "metadata": {
        "colab": {
          "base_uri": "https://localhost:8080/"
        },
        "id": "DttlKSRVVWoi",
        "outputId": "ed03f537-0f86-48df-8084-9e74244a077f"
      },
      "outputs": [
        {
          "data": {
            "text/plain": [
              "Index(['Unnamed: 0', 'index', 'paths', 'Modality', 'channel', 'emotion',\n",
              "       'intensity', 'statement', 'repetition', 'actor', 'key', 'emotion_label',\n",
              "       'intensity_label', 'gender_label', 'audio_paths', 'statement_label',\n",
              "       'gender', 'strat_key', 'category'],\n",
              "      dtype='object')"
            ]
          },
          "execution_count": 15,
          "metadata": {},
          "output_type": "execute_result"
        }
      ],
      "source": [
        "dataset.columns"
      ]
    },
    {
      "cell_type": "code",
      "execution_count": null,
      "metadata": {
        "colab": {
          "base_uri": "https://localhost:8080/",
          "height": 322
        },
        "collapsed": true,
        "id": "ErsrWZoik9b0",
        "outputId": "77f3a05c-37c0-480c-dd7e-0f1fa284a50b"
      },
      "outputs": [
        {
          "ename": "NameError",
          "evalue": "name 'predict_from_video' is not defined",
          "output_type": "error",
          "traceback": [
            "\u001b[0;31m---------------------------------------------------------------------------\u001b[0m",
            "\u001b[0;31mNameError\u001b[0m                                 Traceback (most recent call last)",
            "\u001b[0;32m<ipython-input-7-eeba5fae02f4>\u001b[0m in \u001b[0;36m<cell line: 0>\u001b[0;34m()\u001b[0m\n\u001b[0;32m----> 1\u001b[0;31m \u001b[0mdataset\u001b[0m\u001b[0;34m[\u001b[0m\u001b[0;34m[\u001b[0m\u001b[0;34m'fusion_pred'\u001b[0m\u001b[0;34m,\u001b[0m \u001b[0;34m'audio_pred'\u001b[0m\u001b[0;34m,\u001b[0m \u001b[0;34m\"spec_pred\"\u001b[0m\u001b[0;34m,\u001b[0m \u001b[0;34m'video_pred'\u001b[0m\u001b[0;34m]\u001b[0m\u001b[0;34m]\u001b[0m \u001b[0;34m=\u001b[0m \u001b[0mdataset\u001b[0m\u001b[0;34m[\u001b[0m\u001b[0;34m'key'\u001b[0m\u001b[0;34m]\u001b[0m\u001b[0;34m.\u001b[0m\u001b[0mapply\u001b[0m\u001b[0;34m(\u001b[0m\u001b[0mpred\u001b[0m\u001b[0;34m)\u001b[0m\u001b[0;34m\u001b[0m\u001b[0;34m\u001b[0m\u001b[0m\n\u001b[0m",
            "\u001b[0;32m/usr/local/lib/python3.11/dist-packages/pandas/core/series.py\u001b[0m in \u001b[0;36mapply\u001b[0;34m(self, func, convert_dtype, args, by_row, **kwargs)\u001b[0m\n\u001b[1;32m   4922\u001b[0m             \u001b[0margs\u001b[0m\u001b[0;34m=\u001b[0m\u001b[0margs\u001b[0m\u001b[0;34m,\u001b[0m\u001b[0;34m\u001b[0m\u001b[0;34m\u001b[0m\u001b[0m\n\u001b[1;32m   4923\u001b[0m             \u001b[0mkwargs\u001b[0m\u001b[0;34m=\u001b[0m\u001b[0mkwargs\u001b[0m\u001b[0;34m,\u001b[0m\u001b[0;34m\u001b[0m\u001b[0;34m\u001b[0m\u001b[0m\n\u001b[0;32m-> 4924\u001b[0;31m         ).apply()\n\u001b[0m\u001b[1;32m   4925\u001b[0m \u001b[0;34m\u001b[0m\u001b[0m\n\u001b[1;32m   4926\u001b[0m     def _reindex_indexer(\n",
            "\u001b[0;32m/usr/local/lib/python3.11/dist-packages/pandas/core/apply.py\u001b[0m in \u001b[0;36mapply\u001b[0;34m(self)\u001b[0m\n\u001b[1;32m   1425\u001b[0m \u001b[0;34m\u001b[0m\u001b[0m\n\u001b[1;32m   1426\u001b[0m         \u001b[0;31m# self.func is Callable\u001b[0m\u001b[0;34m\u001b[0m\u001b[0;34m\u001b[0m\u001b[0m\n\u001b[0;32m-> 1427\u001b[0;31m         \u001b[0;32mreturn\u001b[0m \u001b[0mself\u001b[0m\u001b[0;34m.\u001b[0m\u001b[0mapply_standard\u001b[0m\u001b[0;34m(\u001b[0m\u001b[0;34m)\u001b[0m\u001b[0;34m\u001b[0m\u001b[0;34m\u001b[0m\u001b[0m\n\u001b[0m\u001b[1;32m   1428\u001b[0m \u001b[0;34m\u001b[0m\u001b[0m\n\u001b[1;32m   1429\u001b[0m     \u001b[0;32mdef\u001b[0m \u001b[0magg\u001b[0m\u001b[0;34m(\u001b[0m\u001b[0mself\u001b[0m\u001b[0;34m)\u001b[0m\u001b[0;34m:\u001b[0m\u001b[0;34m\u001b[0m\u001b[0;34m\u001b[0m\u001b[0m\n",
            "\u001b[0;32m/usr/local/lib/python3.11/dist-packages/pandas/core/apply.py\u001b[0m in \u001b[0;36mapply_standard\u001b[0;34m(self)\u001b[0m\n\u001b[1;32m   1505\u001b[0m         \u001b[0;31m#  Categorical (GH51645).\u001b[0m\u001b[0;34m\u001b[0m\u001b[0;34m\u001b[0m\u001b[0m\n\u001b[1;32m   1506\u001b[0m         \u001b[0maction\u001b[0m \u001b[0;34m=\u001b[0m \u001b[0;34m\"ignore\"\u001b[0m \u001b[0;32mif\u001b[0m \u001b[0misinstance\u001b[0m\u001b[0;34m(\u001b[0m\u001b[0mobj\u001b[0m\u001b[0;34m.\u001b[0m\u001b[0mdtype\u001b[0m\u001b[0;34m,\u001b[0m \u001b[0mCategoricalDtype\u001b[0m\u001b[0;34m)\u001b[0m \u001b[0;32melse\u001b[0m \u001b[0;32mNone\u001b[0m\u001b[0;34m\u001b[0m\u001b[0;34m\u001b[0m\u001b[0m\n\u001b[0;32m-> 1507\u001b[0;31m         mapped = obj._map_values(\n\u001b[0m\u001b[1;32m   1508\u001b[0m             \u001b[0mmapper\u001b[0m\u001b[0;34m=\u001b[0m\u001b[0mcurried\u001b[0m\u001b[0;34m,\u001b[0m \u001b[0mna_action\u001b[0m\u001b[0;34m=\u001b[0m\u001b[0maction\u001b[0m\u001b[0;34m,\u001b[0m \u001b[0mconvert\u001b[0m\u001b[0;34m=\u001b[0m\u001b[0mself\u001b[0m\u001b[0;34m.\u001b[0m\u001b[0mconvert_dtype\u001b[0m\u001b[0;34m\u001b[0m\u001b[0;34m\u001b[0m\u001b[0m\n\u001b[1;32m   1509\u001b[0m         )\n",
            "\u001b[0;32m/usr/local/lib/python3.11/dist-packages/pandas/core/base.py\u001b[0m in \u001b[0;36m_map_values\u001b[0;34m(self, mapper, na_action, convert)\u001b[0m\n\u001b[1;32m    919\u001b[0m             \u001b[0;32mreturn\u001b[0m \u001b[0marr\u001b[0m\u001b[0;34m.\u001b[0m\u001b[0mmap\u001b[0m\u001b[0;34m(\u001b[0m\u001b[0mmapper\u001b[0m\u001b[0;34m,\u001b[0m \u001b[0mna_action\u001b[0m\u001b[0;34m=\u001b[0m\u001b[0mna_action\u001b[0m\u001b[0;34m)\u001b[0m\u001b[0;34m\u001b[0m\u001b[0;34m\u001b[0m\u001b[0m\n\u001b[1;32m    920\u001b[0m \u001b[0;34m\u001b[0m\u001b[0m\n\u001b[0;32m--> 921\u001b[0;31m         \u001b[0;32mreturn\u001b[0m \u001b[0malgorithms\u001b[0m\u001b[0;34m.\u001b[0m\u001b[0mmap_array\u001b[0m\u001b[0;34m(\u001b[0m\u001b[0marr\u001b[0m\u001b[0;34m,\u001b[0m \u001b[0mmapper\u001b[0m\u001b[0;34m,\u001b[0m \u001b[0mna_action\u001b[0m\u001b[0;34m=\u001b[0m\u001b[0mna_action\u001b[0m\u001b[0;34m,\u001b[0m \u001b[0mconvert\u001b[0m\u001b[0;34m=\u001b[0m\u001b[0mconvert\u001b[0m\u001b[0;34m)\u001b[0m\u001b[0;34m\u001b[0m\u001b[0;34m\u001b[0m\u001b[0m\n\u001b[0m\u001b[1;32m    922\u001b[0m \u001b[0;34m\u001b[0m\u001b[0m\n\u001b[1;32m    923\u001b[0m     \u001b[0;34m@\u001b[0m\u001b[0mfinal\u001b[0m\u001b[0;34m\u001b[0m\u001b[0;34m\u001b[0m\u001b[0m\n",
            "\u001b[0;32m/usr/local/lib/python3.11/dist-packages/pandas/core/algorithms.py\u001b[0m in \u001b[0;36mmap_array\u001b[0;34m(arr, mapper, na_action, convert)\u001b[0m\n\u001b[1;32m   1741\u001b[0m     \u001b[0mvalues\u001b[0m \u001b[0;34m=\u001b[0m \u001b[0marr\u001b[0m\u001b[0;34m.\u001b[0m\u001b[0mastype\u001b[0m\u001b[0;34m(\u001b[0m\u001b[0mobject\u001b[0m\u001b[0;34m,\u001b[0m \u001b[0mcopy\u001b[0m\u001b[0;34m=\u001b[0m\u001b[0;32mFalse\u001b[0m\u001b[0;34m)\u001b[0m\u001b[0;34m\u001b[0m\u001b[0;34m\u001b[0m\u001b[0m\n\u001b[1;32m   1742\u001b[0m     \u001b[0;32mif\u001b[0m \u001b[0mna_action\u001b[0m \u001b[0;32mis\u001b[0m \u001b[0;32mNone\u001b[0m\u001b[0;34m:\u001b[0m\u001b[0;34m\u001b[0m\u001b[0;34m\u001b[0m\u001b[0m\n\u001b[0;32m-> 1743\u001b[0;31m         \u001b[0;32mreturn\u001b[0m \u001b[0mlib\u001b[0m\u001b[0;34m.\u001b[0m\u001b[0mmap_infer\u001b[0m\u001b[0;34m(\u001b[0m\u001b[0mvalues\u001b[0m\u001b[0;34m,\u001b[0m \u001b[0mmapper\u001b[0m\u001b[0;34m,\u001b[0m \u001b[0mconvert\u001b[0m\u001b[0;34m=\u001b[0m\u001b[0mconvert\u001b[0m\u001b[0;34m)\u001b[0m\u001b[0;34m\u001b[0m\u001b[0;34m\u001b[0m\u001b[0m\n\u001b[0m\u001b[1;32m   1744\u001b[0m     \u001b[0;32melse\u001b[0m\u001b[0;34m:\u001b[0m\u001b[0;34m\u001b[0m\u001b[0;34m\u001b[0m\u001b[0m\n\u001b[1;32m   1745\u001b[0m         return lib.map_infer_mask(\n",
            "\u001b[0;32mlib.pyx\u001b[0m in \u001b[0;36mpandas._libs.lib.map_infer\u001b[0;34m()\u001b[0m\n",
            "\u001b[0;32m<ipython-input-4-957840152233>\u001b[0m in \u001b[0;36mpred\u001b[0;34m(i, revdess)\u001b[0m\n\u001b[1;32m      9\u001b[0m         \u001b[0mfile_name\u001b[0m \u001b[0;34m=\u001b[0m \u001b[0mfile_name\u001b[0m\u001b[0;34m.\u001b[0m\u001b[0msplit\u001b[0m\u001b[0;34m(\u001b[0m\u001b[0;34m\".\"\u001b[0m\u001b[0;34m)\u001b[0m\u001b[0;34m[\u001b[0m\u001b[0;36m0\u001b[0m\u001b[0;34m]\u001b[0m\u001b[0;34m\u001b[0m\u001b[0;34m\u001b[0m\u001b[0m\n\u001b[1;32m     10\u001b[0m         \u001b[0maudio_path\u001b[0m \u001b[0;34m=\u001b[0m  \u001b[0;34mf\"extracted_audio/{file_name}_audio.mp3\"\u001b[0m\u001b[0;34m\u001b[0m\u001b[0;34m\u001b[0m\u001b[0m\n\u001b[0;32m---> 11\u001b[0;31m     \u001b[0mfusion_pred\u001b[0m\u001b[0;34m,\u001b[0m \u001b[0maudio_pred\u001b[0m\u001b[0;34m,\u001b[0m \u001b[0mspec_pred\u001b[0m\u001b[0;34m,\u001b[0m \u001b[0mvideo_pred\u001b[0m \u001b[0;34m=\u001b[0m \u001b[0mpredict_from_video\u001b[0m\u001b[0;34m(\u001b[0m\u001b[0mvideo_file\u001b[0m\u001b[0;34m,\u001b[0m \u001b[0mframe_dir\u001b[0m\u001b[0;34m,\u001b[0m \u001b[0maudio_path\u001b[0m\u001b[0;34m,\u001b[0m \u001b[0mframe_model\u001b[0m\u001b[0;34m,\u001b[0m \u001b[0maudio_model\u001b[0m\u001b[0;34m,\u001b[0m \u001b[0mdevice\u001b[0m\u001b[0;34m)\u001b[0m\u001b[0;34m\u001b[0m\u001b[0;34m\u001b[0m\u001b[0m\n\u001b[0m\u001b[1;32m     12\u001b[0m \u001b[0;34m\u001b[0m\u001b[0m\n\u001b[1;32m     13\u001b[0m     return pd.Series({\n",
            "\u001b[0;31mNameError\u001b[0m: name 'predict_from_video' is not defined"
          ]
        }
      ],
      "source": [
        "dataset[['fusion_pred', 'audio_pred', \"spec_pred\", 'video_pred']] = dataset['key'].apply(pred)"
      ]
    },
    {
      "cell_type": "code",
      "execution_count": null,
      "metadata": {
        "colab": {
          "base_uri": "https://localhost:8080/"
        },
        "id": "0n24Aybok9b0",
        "outputId": "2acfb696-8746-4212-903f-02e36affa468"
      },
      "outputs": [
        {
          "name": "stdout",
          "output_type": "stream",
          "text": [
            "Fusion Accuracy: 0.8759124087591241\n"
          ]
        }
      ],
      "source": [
        "# Now compare with true emotion\n",
        "from sklearn.metrics import accuracy_score\n",
        "\n",
        "fusion_acc = accuracy_score(dataset[\"emotion_label\"], dataset[\"fusion_pred\"])\n",
        "\n",
        "print(f\"Fusion Accuracy: {fusion_acc}\")"
      ]
    },
    {
      "cell_type": "code",
      "execution_count": null,
      "metadata": {
        "id": "2Tp4E9qxk9b1"
      },
      "outputs": [],
      "source": [
        "\n",
        "import matplotlib.pyplot as plt\n",
        "from sklearn.metrics import confusion_matrix, ConfusionMatrixDisplay\n",
        "import os\n",
        "\n",
        "\n",
        "# Save confusion matrices as image files\n",
        "def save_confusion_matrix(y_true, y_pred, filename):\n",
        "    cm = confusion_matrix(y_true, y_pred, labels=class_names)\n",
        "    disp = ConfusionMatrixDisplay(confusion_matrix=cm, display_labels=class_names)\n",
        "    fig, ax = plt.subplots(figsize=(10, 8))\n",
        "    disp.plot(cmap=plt.cm.Blues, ax=ax, xticks_rotation=45)\n",
        "    plt.title(filename, fontsize=16)\n",
        "    plt.grid(False)\n",
        "    plt.xticks(fontsize=12)\n",
        "    plt.yticks(fontsize=12)\n",
        "    plt.tight_layout()\n",
        "    plt.savefig(filename + \".png\") # Save the figure\n",
        "    plt.close(fig) # Close the figure to free up memory\n",
        "\n",
        "# Create the \"confusion_matrices\" directory if it doesn't exist\n",
        "os.makedirs(\"confusion_matrices\", exist_ok=True)\n",
        "\n",
        "save_confusion_matrix(dataset['emotion_label'], dataset['fusion_pred'], os.path.join(\"confusion_matrices\", \"Fusion_Model_Confusion_Matrix\"))\n",
        "save_confusion_matrix(dataset['emotion_label'], dataset['audio_pred'], os.path.join(\"confusion_matrices\", \"Audio_Model_Confusion_Matrix\"))\n",
        "save_confusion_matrix(dataset['emotion_label'], dataset['video_pred'], os.path.join(\"confusion_matrices\", \"Video_Model_Confusion_Matrix\"))\n",
        "save_confusion_matrix(dataset['emotion_label'], dataset['spec_pred'], os.path.join(\"confusion_matrices\", \"Spectrogram_Model_Confusion_Matrix\"))\n",
        "\n",
        "print(\"Confusion matrices saved to confusion_matrices directory.\")\n"
      ]
    },
    {
      "cell_type": "code",
      "execution_count": null,
      "metadata": {
        "colab": {
          "base_uri": "https://localhost:8080/",
          "height": 1000
        },
        "id": "UjWN0Ekuk9b1",
        "outputId": "0a8571cb-042d-4fb4-c154-f5dbc3960a44"
      },
      "outputs": [
        {
          "data": {
            "text/html": [
              "<pre style=\"white-space:pre;overflow-x:auto;line-height:normal;font-family:Menlo,'DejaVu Sans Mono',consolas,'Courier New',monospace\">Fusion Classification Report:\n",
              "               precision    recall  f1-score   support\n",
              "\n",
              "       angry       <span style=\"color: #008080; text-decoration-color: #008080; font-weight: bold\">0.95</span>      <span style=\"color: #008080; text-decoration-color: #008080; font-weight: bold\">0.90</span>      <span style=\"color: #008080; text-decoration-color: #008080; font-weight: bold\">0.92</span>        <span style=\"color: #008080; text-decoration-color: #008080; font-weight: bold\">20</span>\n",
              "        calm       <span style=\"color: #008080; text-decoration-color: #008080; font-weight: bold\">0.87</span>      <span style=\"color: #008080; text-decoration-color: #008080; font-weight: bold\">0.81</span>      <span style=\"color: #008080; text-decoration-color: #008080; font-weight: bold\">0.84</span>        <span style=\"color: #008080; text-decoration-color: #008080; font-weight: bold\">16</span>\n",
              "     disgust       <span style=\"color: #008080; text-decoration-color: #008080; font-weight: bold\">0.94</span>      <span style=\"color: #008080; text-decoration-color: #008080; font-weight: bold\">0.89</span>      <span style=\"color: #008080; text-decoration-color: #008080; font-weight: bold\">0.92</span>        <span style=\"color: #008080; text-decoration-color: #008080; font-weight: bold\">19</span>\n",
              "     fearful       <span style=\"color: #008080; text-decoration-color: #008080; font-weight: bold\">0.89</span>      <span style=\"color: #008080; text-decoration-color: #008080; font-weight: bold\">0.94</span>      <span style=\"color: #008080; text-decoration-color: #008080; font-weight: bold\">0.92</span>        <span style=\"color: #008080; text-decoration-color: #008080; font-weight: bold\">18</span>\n",
              "       happy       <span style=\"color: #008080; text-decoration-color: #008080; font-weight: bold\">0.88</span>      <span style=\"color: #008080; text-decoration-color: #008080; font-weight: bold\">0.88</span>      <span style=\"color: #008080; text-decoration-color: #008080; font-weight: bold\">0.88</span>        <span style=\"color: #008080; text-decoration-color: #008080; font-weight: bold\">17</span>\n",
              "     neutral       <span style=\"color: #008080; text-decoration-color: #008080; font-weight: bold\">0.77</span>      <span style=\"color: #008080; text-decoration-color: #008080; font-weight: bold\">1.00</span>      <span style=\"color: #008080; text-decoration-color: #008080; font-weight: bold\">0.87</span>        <span style=\"color: #008080; text-decoration-color: #008080; font-weight: bold\">10</span>\n",
              "         sad       <span style=\"color: #008080; text-decoration-color: #008080; font-weight: bold\">0.80</span>      <span style=\"color: #008080; text-decoration-color: #008080; font-weight: bold\">0.67</span>      <span style=\"color: #008080; text-decoration-color: #008080; font-weight: bold\">0.73</span>        <span style=\"color: #008080; text-decoration-color: #008080; font-weight: bold\">18</span>\n",
              "   surprised       <span style=\"color: #008080; text-decoration-color: #008080; font-weight: bold\">0.86</span>      <span style=\"color: #008080; text-decoration-color: #008080; font-weight: bold\">0.95</span>      <span style=\"color: #008080; text-decoration-color: #008080; font-weight: bold\">0.90</span>        <span style=\"color: #008080; text-decoration-color: #008080; font-weight: bold\">19</span>\n",
              "\n",
              "    accuracy                           <span style=\"color: #008080; text-decoration-color: #008080; font-weight: bold\">0.88</span>       <span style=\"color: #008080; text-decoration-color: #008080; font-weight: bold\">137</span>\n",
              "   macro avg       <span style=\"color: #008080; text-decoration-color: #008080; font-weight: bold\">0.87</span>      <span style=\"color: #008080; text-decoration-color: #008080; font-weight: bold\">0.88</span>      <span style=\"color: #008080; text-decoration-color: #008080; font-weight: bold\">0.87</span>       <span style=\"color: #008080; text-decoration-color: #008080; font-weight: bold\">137</span>\n",
              "weighted avg       <span style=\"color: #008080; text-decoration-color: #008080; font-weight: bold\">0.88</span>      <span style=\"color: #008080; text-decoration-color: #008080; font-weight: bold\">0.88</span>      <span style=\"color: #008080; text-decoration-color: #008080; font-weight: bold\">0.87</span>       <span style=\"color: #008080; text-decoration-color: #008080; font-weight: bold\">137</span>\n",
              "\n",
              "</pre>\n"
            ],
            "text/plain": [
              "Fusion Classification Report:\n",
              "               precision    recall  f1-score   support\n",
              "\n",
              "       angry       \u001b[1;36m0.95\u001b[0m      \u001b[1;36m0.90\u001b[0m      \u001b[1;36m0.92\u001b[0m        \u001b[1;36m20\u001b[0m\n",
              "        calm       \u001b[1;36m0.87\u001b[0m      \u001b[1;36m0.81\u001b[0m      \u001b[1;36m0.84\u001b[0m        \u001b[1;36m16\u001b[0m\n",
              "     disgust       \u001b[1;36m0.94\u001b[0m      \u001b[1;36m0.89\u001b[0m      \u001b[1;36m0.92\u001b[0m        \u001b[1;36m19\u001b[0m\n",
              "     fearful       \u001b[1;36m0.89\u001b[0m      \u001b[1;36m0.94\u001b[0m      \u001b[1;36m0.92\u001b[0m        \u001b[1;36m18\u001b[0m\n",
              "       happy       \u001b[1;36m0.88\u001b[0m      \u001b[1;36m0.88\u001b[0m      \u001b[1;36m0.88\u001b[0m        \u001b[1;36m17\u001b[0m\n",
              "     neutral       \u001b[1;36m0.77\u001b[0m      \u001b[1;36m1.00\u001b[0m      \u001b[1;36m0.87\u001b[0m        \u001b[1;36m10\u001b[0m\n",
              "         sad       \u001b[1;36m0.80\u001b[0m      \u001b[1;36m0.67\u001b[0m      \u001b[1;36m0.73\u001b[0m        \u001b[1;36m18\u001b[0m\n",
              "   surprised       \u001b[1;36m0.86\u001b[0m      \u001b[1;36m0.95\u001b[0m      \u001b[1;36m0.90\u001b[0m        \u001b[1;36m19\u001b[0m\n",
              "\n",
              "    accuracy                           \u001b[1;36m0.88\u001b[0m       \u001b[1;36m137\u001b[0m\n",
              "   macro avg       \u001b[1;36m0.87\u001b[0m      \u001b[1;36m0.88\u001b[0m      \u001b[1;36m0.87\u001b[0m       \u001b[1;36m137\u001b[0m\n",
              "weighted avg       \u001b[1;36m0.88\u001b[0m      \u001b[1;36m0.88\u001b[0m      \u001b[1;36m0.87\u001b[0m       \u001b[1;36m137\u001b[0m\n",
              "\n"
            ]
          },
          "metadata": {},
          "output_type": "display_data"
        },
        {
          "data": {
            "text/html": [
              "<pre style=\"white-space:pre;overflow-x:auto;line-height:normal;font-family:Menlo,'DejaVu Sans Mono',consolas,'Courier New',monospace\">Audio Classification Report:\n",
              "               precision    recall  f1-score   support\n",
              "\n",
              "       angry       <span style=\"color: #008080; text-decoration-color: #008080; font-weight: bold\">0.62</span>      <span style=\"color: #008080; text-decoration-color: #008080; font-weight: bold\">0.75</span>      <span style=\"color: #008080; text-decoration-color: #008080; font-weight: bold\">0.68</span>        <span style=\"color: #008080; text-decoration-color: #008080; font-weight: bold\">20</span>\n",
              "        calm       <span style=\"color: #008080; text-decoration-color: #008080; font-weight: bold\">0.79</span>      <span style=\"color: #008080; text-decoration-color: #008080; font-weight: bold\">0.69</span>      <span style=\"color: #008080; text-decoration-color: #008080; font-weight: bold\">0.73</span>        <span style=\"color: #008080; text-decoration-color: #008080; font-weight: bold\">16</span>\n",
              "     disgust       <span style=\"color: #008080; text-decoration-color: #008080; font-weight: bold\">0.86</span>      <span style=\"color: #008080; text-decoration-color: #008080; font-weight: bold\">0.63</span>      <span style=\"color: #008080; text-decoration-color: #008080; font-weight: bold\">0.73</span>        <span style=\"color: #008080; text-decoration-color: #008080; font-weight: bold\">19</span>\n",
              "     fearful       <span style=\"color: #008080; text-decoration-color: #008080; font-weight: bold\">0.83</span>      <span style=\"color: #008080; text-decoration-color: #008080; font-weight: bold\">0.83</span>      <span style=\"color: #008080; text-decoration-color: #008080; font-weight: bold\">0.83</span>        <span style=\"color: #008080; text-decoration-color: #008080; font-weight: bold\">18</span>\n",
              "       happy       <span style=\"color: #008080; text-decoration-color: #008080; font-weight: bold\">0.61</span>      <span style=\"color: #008080; text-decoration-color: #008080; font-weight: bold\">0.65</span>      <span style=\"color: #008080; text-decoration-color: #008080; font-weight: bold\">0.63</span>        <span style=\"color: #008080; text-decoration-color: #008080; font-weight: bold\">17</span>\n",
              "     neutral       <span style=\"color: #008080; text-decoration-color: #008080; font-weight: bold\">0.60</span>      <span style=\"color: #008080; text-decoration-color: #008080; font-weight: bold\">0.90</span>      <span style=\"color: #008080; text-decoration-color: #008080; font-weight: bold\">0.72</span>        <span style=\"color: #008080; text-decoration-color: #008080; font-weight: bold\">10</span>\n",
              "         sad       <span style=\"color: #008080; text-decoration-color: #008080; font-weight: bold\">0.50</span>      <span style=\"color: #008080; text-decoration-color: #008080; font-weight: bold\">0.39</span>      <span style=\"color: #008080; text-decoration-color: #008080; font-weight: bold\">0.44</span>        <span style=\"color: #008080; text-decoration-color: #008080; font-weight: bold\">18</span>\n",
              "   surprised       <span style=\"color: #008080; text-decoration-color: #008080; font-weight: bold\">0.80</span>      <span style=\"color: #008080; text-decoration-color: #008080; font-weight: bold\">0.84</span>      <span style=\"color: #008080; text-decoration-color: #008080; font-weight: bold\">0.82</span>        <span style=\"color: #008080; text-decoration-color: #008080; font-weight: bold\">19</span>\n",
              "\n",
              "    accuracy                           <span style=\"color: #008080; text-decoration-color: #008080; font-weight: bold\">0.70</span>       <span style=\"color: #008080; text-decoration-color: #008080; font-weight: bold\">137</span>\n",
              "   macro avg       <span style=\"color: #008080; text-decoration-color: #008080; font-weight: bold\">0.70</span>      <span style=\"color: #008080; text-decoration-color: #008080; font-weight: bold\">0.71</span>      <span style=\"color: #008080; text-decoration-color: #008080; font-weight: bold\">0.70</span>       <span style=\"color: #008080; text-decoration-color: #008080; font-weight: bold\">137</span>\n",
              "weighted avg       <span style=\"color: #008080; text-decoration-color: #008080; font-weight: bold\">0.71</span>      <span style=\"color: #008080; text-decoration-color: #008080; font-weight: bold\">0.70</span>      <span style=\"color: #008080; text-decoration-color: #008080; font-weight: bold\">0.70</span>       <span style=\"color: #008080; text-decoration-color: #008080; font-weight: bold\">137</span>\n",
              "\n",
              "</pre>\n"
            ],
            "text/plain": [
              "Audio Classification Report:\n",
              "               precision    recall  f1-score   support\n",
              "\n",
              "       angry       \u001b[1;36m0.62\u001b[0m      \u001b[1;36m0.75\u001b[0m      \u001b[1;36m0.68\u001b[0m        \u001b[1;36m20\u001b[0m\n",
              "        calm       \u001b[1;36m0.79\u001b[0m      \u001b[1;36m0.69\u001b[0m      \u001b[1;36m0.73\u001b[0m        \u001b[1;36m16\u001b[0m\n",
              "     disgust       \u001b[1;36m0.86\u001b[0m      \u001b[1;36m0.63\u001b[0m      \u001b[1;36m0.73\u001b[0m        \u001b[1;36m19\u001b[0m\n",
              "     fearful       \u001b[1;36m0.83\u001b[0m      \u001b[1;36m0.83\u001b[0m      \u001b[1;36m0.83\u001b[0m        \u001b[1;36m18\u001b[0m\n",
              "       happy       \u001b[1;36m0.61\u001b[0m      \u001b[1;36m0.65\u001b[0m      \u001b[1;36m0.63\u001b[0m        \u001b[1;36m17\u001b[0m\n",
              "     neutral       \u001b[1;36m0.60\u001b[0m      \u001b[1;36m0.90\u001b[0m      \u001b[1;36m0.72\u001b[0m        \u001b[1;36m10\u001b[0m\n",
              "         sad       \u001b[1;36m0.50\u001b[0m      \u001b[1;36m0.39\u001b[0m      \u001b[1;36m0.44\u001b[0m        \u001b[1;36m18\u001b[0m\n",
              "   surprised       \u001b[1;36m0.80\u001b[0m      \u001b[1;36m0.84\u001b[0m      \u001b[1;36m0.82\u001b[0m        \u001b[1;36m19\u001b[0m\n",
              "\n",
              "    accuracy                           \u001b[1;36m0.70\u001b[0m       \u001b[1;36m137\u001b[0m\n",
              "   macro avg       \u001b[1;36m0.70\u001b[0m      \u001b[1;36m0.71\u001b[0m      \u001b[1;36m0.70\u001b[0m       \u001b[1;36m137\u001b[0m\n",
              "weighted avg       \u001b[1;36m0.71\u001b[0m      \u001b[1;36m0.70\u001b[0m      \u001b[1;36m0.70\u001b[0m       \u001b[1;36m137\u001b[0m\n",
              "\n"
            ]
          },
          "metadata": {},
          "output_type": "display_data"
        },
        {
          "data": {
            "text/html": [
              "<pre style=\"white-space:pre;overflow-x:auto;line-height:normal;font-family:Menlo,'DejaVu Sans Mono',consolas,'Courier New',monospace\">Video Classification Report:\n",
              "               precision    recall  f1-score   support\n",
              "\n",
              "       angry       <span style=\"color: #008080; text-decoration-color: #008080; font-weight: bold\">0.90</span>      <span style=\"color: #008080; text-decoration-color: #008080; font-weight: bold\">0.95</span>      <span style=\"color: #008080; text-decoration-color: #008080; font-weight: bold\">0.93</span>        <span style=\"color: #008080; text-decoration-color: #008080; font-weight: bold\">20</span>\n",
              "        calm       <span style=\"color: #008080; text-decoration-color: #008080; font-weight: bold\">0.93</span>      <span style=\"color: #008080; text-decoration-color: #008080; font-weight: bold\">0.81</span>      <span style=\"color: #008080; text-decoration-color: #008080; font-weight: bold\">0.87</span>        <span style=\"color: #008080; text-decoration-color: #008080; font-weight: bold\">16</span>\n",
              "     disgust       <span style=\"color: #008080; text-decoration-color: #008080; font-weight: bold\">1.00</span>      <span style=\"color: #008080; text-decoration-color: #008080; font-weight: bold\">1.00</span>      <span style=\"color: #008080; text-decoration-color: #008080; font-weight: bold\">1.00</span>        <span style=\"color: #008080; text-decoration-color: #008080; font-weight: bold\">19</span>\n",
              "     fearful       <span style=\"color: #008080; text-decoration-color: #008080; font-weight: bold\">1.00</span>      <span style=\"color: #008080; text-decoration-color: #008080; font-weight: bold\">0.94</span>      <span style=\"color: #008080; text-decoration-color: #008080; font-weight: bold\">0.97</span>        <span style=\"color: #008080; text-decoration-color: #008080; font-weight: bold\">18</span>\n",
              "       happy       <span style=\"color: #008080; text-decoration-color: #008080; font-weight: bold\">0.94</span>      <span style=\"color: #008080; text-decoration-color: #008080; font-weight: bold\">0.88</span>      <span style=\"color: #008080; text-decoration-color: #008080; font-weight: bold\">0.91</span>        <span style=\"color: #008080; text-decoration-color: #008080; font-weight: bold\">17</span>\n",
              "     neutral       <span style=\"color: #008080; text-decoration-color: #008080; font-weight: bold\">0.91</span>      <span style=\"color: #008080; text-decoration-color: #008080; font-weight: bold\">1.00</span>      <span style=\"color: #008080; text-decoration-color: #008080; font-weight: bold\">0.95</span>        <span style=\"color: #008080; text-decoration-color: #008080; font-weight: bold\">10</span>\n",
              "         sad       <span style=\"color: #008080; text-decoration-color: #008080; font-weight: bold\">0.94</span>      <span style=\"color: #008080; text-decoration-color: #008080; font-weight: bold\">0.94</span>      <span style=\"color: #008080; text-decoration-color: #008080; font-weight: bold\">0.94</span>        <span style=\"color: #008080; text-decoration-color: #008080; font-weight: bold\">18</span>\n",
              "   surprised       <span style=\"color: #008080; text-decoration-color: #008080; font-weight: bold\">0.90</span>      <span style=\"color: #008080; text-decoration-color: #008080; font-weight: bold\">1.00</span>      <span style=\"color: #008080; text-decoration-color: #008080; font-weight: bold\">0.95</span>        <span style=\"color: #008080; text-decoration-color: #008080; font-weight: bold\">19</span>\n",
              "\n",
              "    accuracy                           <span style=\"color: #008080; text-decoration-color: #008080; font-weight: bold\">0.94</span>       <span style=\"color: #008080; text-decoration-color: #008080; font-weight: bold\">137</span>\n",
              "   macro avg       <span style=\"color: #008080; text-decoration-color: #008080; font-weight: bold\">0.94</span>      <span style=\"color: #008080; text-decoration-color: #008080; font-weight: bold\">0.94</span>      <span style=\"color: #008080; text-decoration-color: #008080; font-weight: bold\">0.94</span>       <span style=\"color: #008080; text-decoration-color: #008080; font-weight: bold\">137</span>\n",
              "weighted avg       <span style=\"color: #008080; text-decoration-color: #008080; font-weight: bold\">0.94</span>      <span style=\"color: #008080; text-decoration-color: #008080; font-weight: bold\">0.94</span>      <span style=\"color: #008080; text-decoration-color: #008080; font-weight: bold\">0.94</span>       <span style=\"color: #008080; text-decoration-color: #008080; font-weight: bold\">137</span>\n",
              "\n",
              "</pre>\n"
            ],
            "text/plain": [
              "Video Classification Report:\n",
              "               precision    recall  f1-score   support\n",
              "\n",
              "       angry       \u001b[1;36m0.90\u001b[0m      \u001b[1;36m0.95\u001b[0m      \u001b[1;36m0.93\u001b[0m        \u001b[1;36m20\u001b[0m\n",
              "        calm       \u001b[1;36m0.93\u001b[0m      \u001b[1;36m0.81\u001b[0m      \u001b[1;36m0.87\u001b[0m        \u001b[1;36m16\u001b[0m\n",
              "     disgust       \u001b[1;36m1.00\u001b[0m      \u001b[1;36m1.00\u001b[0m      \u001b[1;36m1.00\u001b[0m        \u001b[1;36m19\u001b[0m\n",
              "     fearful       \u001b[1;36m1.00\u001b[0m      \u001b[1;36m0.94\u001b[0m      \u001b[1;36m0.97\u001b[0m        \u001b[1;36m18\u001b[0m\n",
              "       happy       \u001b[1;36m0.94\u001b[0m      \u001b[1;36m0.88\u001b[0m      \u001b[1;36m0.91\u001b[0m        \u001b[1;36m17\u001b[0m\n",
              "     neutral       \u001b[1;36m0.91\u001b[0m      \u001b[1;36m1.00\u001b[0m      \u001b[1;36m0.95\u001b[0m        \u001b[1;36m10\u001b[0m\n",
              "         sad       \u001b[1;36m0.94\u001b[0m      \u001b[1;36m0.94\u001b[0m      \u001b[1;36m0.94\u001b[0m        \u001b[1;36m18\u001b[0m\n",
              "   surprised       \u001b[1;36m0.90\u001b[0m      \u001b[1;36m1.00\u001b[0m      \u001b[1;36m0.95\u001b[0m        \u001b[1;36m19\u001b[0m\n",
              "\n",
              "    accuracy                           \u001b[1;36m0.94\u001b[0m       \u001b[1;36m137\u001b[0m\n",
              "   macro avg       \u001b[1;36m0.94\u001b[0m      \u001b[1;36m0.94\u001b[0m      \u001b[1;36m0.94\u001b[0m       \u001b[1;36m137\u001b[0m\n",
              "weighted avg       \u001b[1;36m0.94\u001b[0m      \u001b[1;36m0.94\u001b[0m      \u001b[1;36m0.94\u001b[0m       \u001b[1;36m137\u001b[0m\n",
              "\n"
            ]
          },
          "metadata": {},
          "output_type": "display_data"
        },
        {
          "data": {
            "text/html": [
              "<pre style=\"white-space:pre;overflow-x:auto;line-height:normal;font-family:Menlo,'DejaVu Sans Mono',consolas,'Courier New',monospace\">Spectrogram Classification Report:\n",
              "               precision    recall  f1-score   support\n",
              "\n",
              "       angry       <span style=\"color: #008080; text-decoration-color: #008080; font-weight: bold\">0.84</span>      <span style=\"color: #008080; text-decoration-color: #008080; font-weight: bold\">0.80</span>      <span style=\"color: #008080; text-decoration-color: #008080; font-weight: bold\">0.82</span>        <span style=\"color: #008080; text-decoration-color: #008080; font-weight: bold\">20</span>\n",
              "        calm       <span style=\"color: #008080; text-decoration-color: #008080; font-weight: bold\">0.80</span>      <span style=\"color: #008080; text-decoration-color: #008080; font-weight: bold\">0.75</span>      <span style=\"color: #008080; text-decoration-color: #008080; font-weight: bold\">0.77</span>        <span style=\"color: #008080; text-decoration-color: #008080; font-weight: bold\">16</span>\n",
              "     disgust       <span style=\"color: #008080; text-decoration-color: #008080; font-weight: bold\">0.92</span>      <span style=\"color: #008080; text-decoration-color: #008080; font-weight: bold\">0.58</span>      <span style=\"color: #008080; text-decoration-color: #008080; font-weight: bold\">0.71</span>        <span style=\"color: #008080; text-decoration-color: #008080; font-weight: bold\">19</span>\n",
              "     fearful       <span style=\"color: #008080; text-decoration-color: #008080; font-weight: bold\">0.58</span>      <span style=\"color: #008080; text-decoration-color: #008080; font-weight: bold\">0.78</span>      <span style=\"color: #008080; text-decoration-color: #008080; font-weight: bold\">0.67</span>        <span style=\"color: #008080; text-decoration-color: #008080; font-weight: bold\">18</span>\n",
              "       happy       <span style=\"color: #008080; text-decoration-color: #008080; font-weight: bold\">0.85</span>      <span style=\"color: #008080; text-decoration-color: #008080; font-weight: bold\">0.65</span>      <span style=\"color: #008080; text-decoration-color: #008080; font-weight: bold\">0.73</span>        <span style=\"color: #008080; text-decoration-color: #008080; font-weight: bold\">17</span>\n",
              "     neutral       <span style=\"color: #008080; text-decoration-color: #008080; font-weight: bold\">1.00</span>      <span style=\"color: #008080; text-decoration-color: #008080; font-weight: bold\">0.80</span>      <span style=\"color: #008080; text-decoration-color: #008080; font-weight: bold\">0.89</span>        <span style=\"color: #008080; text-decoration-color: #008080; font-weight: bold\">10</span>\n",
              "         sad       <span style=\"color: #008080; text-decoration-color: #008080; font-weight: bold\">0.61</span>      <span style=\"color: #008080; text-decoration-color: #008080; font-weight: bold\">0.78</span>      <span style=\"color: #008080; text-decoration-color: #008080; font-weight: bold\">0.68</span>        <span style=\"color: #008080; text-decoration-color: #008080; font-weight: bold\">18</span>\n",
              "   surprised       <span style=\"color: #008080; text-decoration-color: #008080; font-weight: bold\">0.78</span>      <span style=\"color: #008080; text-decoration-color: #008080; font-weight: bold\">0.95</span>      <span style=\"color: #008080; text-decoration-color: #008080; font-weight: bold\">0.86</span>        <span style=\"color: #008080; text-decoration-color: #008080; font-weight: bold\">19</span>\n",
              "\n",
              "    accuracy                           <span style=\"color: #008080; text-decoration-color: #008080; font-weight: bold\">0.76</span>       <span style=\"color: #008080; text-decoration-color: #008080; font-weight: bold\">137</span>\n",
              "   macro avg       <span style=\"color: #008080; text-decoration-color: #008080; font-weight: bold\">0.80</span>      <span style=\"color: #008080; text-decoration-color: #008080; font-weight: bold\">0.76</span>      <span style=\"color: #008080; text-decoration-color: #008080; font-weight: bold\">0.77</span>       <span style=\"color: #008080; text-decoration-color: #008080; font-weight: bold\">137</span>\n",
              "weighted avg       <span style=\"color: #008080; text-decoration-color: #008080; font-weight: bold\">0.79</span>      <span style=\"color: #008080; text-decoration-color: #008080; font-weight: bold\">0.76</span>      <span style=\"color: #008080; text-decoration-color: #008080; font-weight: bold\">0.76</span>       <span style=\"color: #008080; text-decoration-color: #008080; font-weight: bold\">137</span>\n",
              "\n",
              "</pre>\n"
            ],
            "text/plain": [
              "Spectrogram Classification Report:\n",
              "               precision    recall  f1-score   support\n",
              "\n",
              "       angry       \u001b[1;36m0.84\u001b[0m      \u001b[1;36m0.80\u001b[0m      \u001b[1;36m0.82\u001b[0m        \u001b[1;36m20\u001b[0m\n",
              "        calm       \u001b[1;36m0.80\u001b[0m      \u001b[1;36m0.75\u001b[0m      \u001b[1;36m0.77\u001b[0m        \u001b[1;36m16\u001b[0m\n",
              "     disgust       \u001b[1;36m0.92\u001b[0m      \u001b[1;36m0.58\u001b[0m      \u001b[1;36m0.71\u001b[0m        \u001b[1;36m19\u001b[0m\n",
              "     fearful       \u001b[1;36m0.58\u001b[0m      \u001b[1;36m0.78\u001b[0m      \u001b[1;36m0.67\u001b[0m        \u001b[1;36m18\u001b[0m\n",
              "       happy       \u001b[1;36m0.85\u001b[0m      \u001b[1;36m0.65\u001b[0m      \u001b[1;36m0.73\u001b[0m        \u001b[1;36m17\u001b[0m\n",
              "     neutral       \u001b[1;36m1.00\u001b[0m      \u001b[1;36m0.80\u001b[0m      \u001b[1;36m0.89\u001b[0m        \u001b[1;36m10\u001b[0m\n",
              "         sad       \u001b[1;36m0.61\u001b[0m      \u001b[1;36m0.78\u001b[0m      \u001b[1;36m0.68\u001b[0m        \u001b[1;36m18\u001b[0m\n",
              "   surprised       \u001b[1;36m0.78\u001b[0m      \u001b[1;36m0.95\u001b[0m      \u001b[1;36m0.86\u001b[0m        \u001b[1;36m19\u001b[0m\n",
              "\n",
              "    accuracy                           \u001b[1;36m0.76\u001b[0m       \u001b[1;36m137\u001b[0m\n",
              "   macro avg       \u001b[1;36m0.80\u001b[0m      \u001b[1;36m0.76\u001b[0m      \u001b[1;36m0.77\u001b[0m       \u001b[1;36m137\u001b[0m\n",
              "weighted avg       \u001b[1;36m0.79\u001b[0m      \u001b[1;36m0.76\u001b[0m      \u001b[1;36m0.76\u001b[0m       \u001b[1;36m137\u001b[0m\n",
              "\n"
            ]
          },
          "metadata": {},
          "output_type": "display_data"
        }
      ],
      "source": [
        "\n",
        "from sklearn.metrics import classification_report, confusion_matrix\n",
        "from sklearn.metrics import ConfusionMatrixDisplay\n",
        "import matplotlib.pyplot as plt\n",
        "\n",
        "# Now calculate and print the classification reports\n",
        "console.print(\"Fusion Classification Report:\\n\", classification_report(dataset[\"emotion_label\"], dataset[\"fusion_pred\"], target_names=class_names))\n",
        "console.print(\"Audio Classification Report:\\n\", classification_report(dataset[\"emotion_label\"], dataset[\"audio_pred\"], target_names=class_names))\n",
        "console.print(\"Video Classification Report:\\n\", classification_report(dataset[\"emotion_label\"], dataset[\"video_pred\"], target_names=class_names))\n",
        "console.print(\"Spectrogram Classification Report:\\n\", classification_report(dataset[\"emotion_label\"], dataset[\"spec_pred\"], target_names=class_names))\n"
      ]
    },
    {
      "cell_type": "code",
      "execution_count": null,
      "metadata": {
        "id": "DyLk65i-40dm"
      },
      "outputs": [],
      "source": []
    },
    {
      "cell_type": "code",
      "execution_count": null,
      "metadata": {
        "id": "VwFp9R2F42rQ"
      },
      "outputs": [],
      "source": []
    }
  ],
  "metadata": {
    "accelerator": "GPU",
    "colab": {
      "gpuType": "T4",
      "provenance": []
    },
    "kaggle": {
      "accelerator": "nvidiaTeslaT4",
      "dataSources": [
        {
          "datasetId": 2871491,
          "sourceId": 4951650,
          "sourceType": "datasetVersion"
        },
        {
          "datasetId": 7140012,
          "sourceId": 11400033,
          "sourceType": "datasetVersion"
        },
        {
          "modelId": 301718,
          "modelInstanceId": 280817,
          "sourceId": 335481,
          "sourceType": "modelInstanceVersion"
        },
        {
          "modelId": 301754,
          "modelInstanceId": 280853,
          "sourceId": 335519,
          "sourceType": "modelInstanceVersion"
        }
      ],
      "dockerImageVersionId": 31011,
      "isGpuEnabled": true,
      "isInternetEnabled": true,
      "language": "python",
      "sourceType": "notebook"
    },
    "kernelspec": {
      "display_name": "Python 3",
      "name": "python3"
    },
    "language_info": {
      "codemirror_mode": {
        "name": "ipython",
        "version": 3
      },
      "file_extension": ".py",
      "mimetype": "text/x-python",
      "name": "python",
      "nbconvert_exporter": "python",
      "pygments_lexer": "ipython3",
      "version": "3.11.11"
    }
  },
  "nbformat": 4,
  "nbformat_minor": 0
}